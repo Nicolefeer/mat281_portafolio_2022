{
  "cells": [
    {
      "cell_type": "markdown",
      "metadata": {
        "id": "uBmlh8Yz2ymL"
      },
      "source": [
        "<a href=\"https://colab.research.google.com/github/fralfaro/MAT281_2022/blob/main/homeworks/h2/hw_02.ipynb\n",
        "\" target=\"_parent\"><img src=\"https://colab.research.google.com/assets/colab-badge.svg\" alt=\"Open In Colab\"/></a>\n",
        "\n",
        "\n",
        "# Tarea N°02\n",
        "\n",
        "## Instrucciones\n",
        "\n",
        "1.- Completa tus datos personales (nombre y rol USM) en siguiente celda.\n",
        "\n",
        "\n",
        "* __Nombre__: Nicole Gómez\n",
        "\n",
        "* __Rol__: 201810507-4\n",
        "\n",
        "2.- Debes _subir_ este archivo con tus cambios a tu repositorio personal del curso, incluyendo datos, imágenes, scripts, etc.\n",
        "\n",
        "3.- Se evaluará:\n",
        "   - Soluciones\n",
        "   - Código\n",
        "   - Al presionar  `Kernel -> Restart Kernel and Run All Cells` deben ejecutarse todas las celdas sin error."
      ]
    },
    {
      "cell_type": "markdown",
      "metadata": {
        "id": "HipF8m962ynN"
      },
      "source": [
        "## I.- Clasificación de dígitos\n",
        "\n",
        "\n",
        "En este laboratorio realizaremos el trabajo de reconocer un dígito a partir de una imagen.\n"
      ]
    },
    {
      "cell_type": "markdown",
      "metadata": {
        "id": "ee9erUld2ynP"
      },
      "source": [
        "![rgb](https://www.wolfram.com/language/11/neural-networks/assets.en/digit-classification/smallthumb_1.png)"
      ]
    },
    {
      "cell_type": "markdown",
      "metadata": {
        "id": "JndlJ96S2ynd"
      },
      "source": [
        "El objetivo es a partir de los datos, hacer la mejor predicción de cada imagen. Para ellos es necesario realizar los pasos clásicos de un proyecto de _Machine Learning_, como estadística descriptiva, visualización y preprocesamiento. \n",
        "\n",
        "* Se solicita ajustar al menos tres modelos de clasificación:\n",
        " * Regresión logística\n",
        " * K-Nearest Neighbours \n",
        " * Uno o más algoritmos a su elección [link](https://scikit-learn.org/stable/supervised_learning.html#supervised-learning) (es obligación escoger un _estimator_ que tenga por lo menos un hiperparámetro). \n",
        " \n",
        " \n",
        "* En los modelos que posean hiperparámetros es mandatorio buscar el/los mejores con alguna técnica disponible en `scikit-learn` ([ver más](https://scikit-learn.org/stable/modules/grid_search.html#tuning-the-hyper-parameters-of-an-estimator)).\n",
        "* Para cada modelo, se debe realizar _Cross Validation_ con 10 _folds_ utilizando los datos de entrenamiento con tal de determinar un intervalo de confianza para el _score_ del modelo.\n",
        "* Realizar una predicción con cada uno de los tres modelos con los datos _test_ y obtener el _score_. \n",
        "* Analizar sus métricas de error (**accuracy**, **precision**, **recall**, **f-score**)\n",
        "\n"
      ]
    },
    {
      "cell_type": "markdown",
      "metadata": {
        "id": "2wLG1Ryu2yoA"
      },
      "source": [
        "### Exploración de los datos\n",
        "A continuación se carga el conjunto de datos a utilizar, a través del sub-módulo `datasets` de `sklearn`."
      ]
    },
    {
      "cell_type": "code",
      "execution_count": 1,
      "metadata": {
        "id": "fHPs_8i62yoK"
      },
      "outputs": [],
      "source": [
        "import numpy as np\n",
        "import pandas as pd\n",
        "from sklearn import datasets\n",
        "import matplotlib.pyplot as plt\n",
        "\n",
        "%matplotlib inline"
      ]
    },
    {
      "cell_type": "code",
      "execution_count": 2,
      "metadata": {
        "id": "qWqtIcQO2yoa",
        "outputId": "1f39439e-e652-4d0b-cc09-02bee91006b5",
        "colab": {
          "base_uri": "https://localhost:8080/"
        }
      },
      "outputs": [
        {
          "output_type": "stream",
          "name": "stdout",
          "text": [
            ".. _digits_dataset:\n",
            "\n",
            "Optical recognition of handwritten digits dataset\n",
            "--------------------------------------------------\n",
            "\n",
            "**Data Set Characteristics:**\n",
            "\n",
            "    :Number of Instances: 1797\n",
            "    :Number of Attributes: 64\n",
            "    :Attribute Information: 8x8 image of integer pixels in the range 0..16.\n",
            "    :Missing Attribute Values: None\n",
            "    :Creator: E. Alpaydin (alpaydin '@' boun.edu.tr)\n",
            "    :Date: July; 1998\n",
            "\n",
            "This is a copy of the test set of the UCI ML hand-written digits datasets\n",
            "https://archive.ics.uci.edu/ml/datasets/Optical+Recognition+of+Handwritten+Digits\n",
            "\n",
            "The data set contains images of hand-written digits: 10 classes where\n",
            "each class refers to a digit.\n",
            "\n",
            "Preprocessing programs made available by NIST were used to extract\n",
            "normalized bitmaps of handwritten digits from a preprinted form. From a\n",
            "total of 43 people, 30 contributed to the training set and different 13\n",
            "to the test set. 32x32 bitmaps are divided into nonoverlapping blocks of\n",
            "4x4 and the number of on pixels are counted in each block. This generates\n",
            "an input matrix of 8x8 where each element is an integer in the range\n",
            "0..16. This reduces dimensionality and gives invariance to small\n",
            "distortions.\n",
            "\n",
            "For info on NIST preprocessing routines, see M. D. Garris, J. L. Blue, G.\n",
            "T. Candela, D. L. Dimmick, J. Geist, P. J. Grother, S. A. Janet, and C.\n",
            "L. Wilson, NIST Form-Based Handprint Recognition System, NISTIR 5469,\n",
            "1994.\n",
            "\n",
            ".. topic:: References\n",
            "\n",
            "  - C. Kaynak (1995) Methods of Combining Multiple Classifiers and Their\n",
            "    Applications to Handwritten Digit Recognition, MSc Thesis, Institute of\n",
            "    Graduate Studies in Science and Engineering, Bogazici University.\n",
            "  - E. Alpaydin, C. Kaynak (1998) Cascading Classifiers, Kybernetika.\n",
            "  - Ken Tang and Ponnuthurai N. Suganthan and Xi Yao and A. Kai Qin.\n",
            "    Linear dimensionalityreduction using relevance weighted LDA. School of\n",
            "    Electrical and Electronic Engineering Nanyang Technological University.\n",
            "    2005.\n",
            "  - Claudio Gentile. A New Approximate Maximal Margin Classification\n",
            "    Algorithm. NIPS. 2000.\n",
            "\n"
          ]
        }
      ],
      "source": [
        "digits_dict = datasets.load_digits()\n",
        "print(digits_dict[\"DESCR\"])"
      ]
    },
    {
      "cell_type": "code",
      "execution_count": 3,
      "metadata": {
        "id": "iYYS5Jcx2yoi",
        "outputId": "efc7a185-e406-43a5-ce66-516745641b52",
        "colab": {
          "base_uri": "https://localhost:8080/"
        }
      },
      "outputs": [
        {
          "output_type": "execute_result",
          "data": {
            "text/plain": [
              "dict_keys(['data', 'target', 'frame', 'feature_names', 'target_names', 'images', 'DESCR'])"
            ]
          },
          "metadata": {},
          "execution_count": 3
        }
      ],
      "source": [
        "digits_dict.keys()"
      ]
    },
    {
      "cell_type": "code",
      "execution_count": 4,
      "metadata": {
        "id": "n91SCmaM2you",
        "outputId": "007082f1-2bfa-4e5e-dea3-7620b9d965ba",
        "colab": {
          "base_uri": "https://localhost:8080/"
        }
      },
      "outputs": [
        {
          "output_type": "execute_result",
          "data": {
            "text/plain": [
              "array([0, 1, 2, ..., 8, 9, 8])"
            ]
          },
          "metadata": {},
          "execution_count": 4
        }
      ],
      "source": [
        "digits_dict[\"target\"]"
      ]
    },
    {
      "cell_type": "markdown",
      "metadata": {
        "id": "dFOVhVwQ2yo0"
      },
      "source": [
        "A continuación se crea dataframe declarado como `digits` con los datos de `digits_dict` tal que tenga 65 columnas, las 6 primeras a la representación de la imagen en escala de grises (0-blanco, 255-negro) y la última correspondiente al dígito (`target`) con el nombre _target_."
      ]
    },
    {
      "cell_type": "code",
      "execution_count": 5,
      "metadata": {
        "id": "PNrRKuW92yo6",
        "outputId": "e6e3dcf0-7097-416d-d8d9-a47dd9fbd770",
        "colab": {
          "base_uri": "https://localhost:8080/",
          "height": 235
        }
      },
      "outputs": [
        {
          "output_type": "execute_result",
          "data": {
            "text/plain": [
              "   c00  c01  c02  c03  c04  c05  c06  c07  c08  c09  ...  c55  c56  c57  c58  \\\n",
              "0    0    0    5   13    9    1    0    0    0    0  ...    0    0    0    6   \n",
              "1    0    0    0   12   13    5    0    0    0    0  ...    0    0    0    0   \n",
              "2    0    0    0    4   15   12    0    0    0    0  ...    0    0    0    0   \n",
              "3    0    0    7   15   13    1    0    0    0    8  ...    0    0    0    7   \n",
              "4    0    0    0    1   11    0    0    0    0    0  ...    0    0    0    0   \n",
              "\n",
              "   c59  c60  c61  c62  c63  target  \n",
              "0   13   10    0    0    0       0  \n",
              "1   11   16   10    0    0       1  \n",
              "2    3   11   16    9    0       2  \n",
              "3   13   13    9    0    0       3  \n",
              "4    2   16    4    0    0       4  \n",
              "\n",
              "[5 rows x 65 columns]"
            ],
            "text/html": [
              "\n",
              "  <div id=\"df-b67b5ee2-67e4-4818-91a8-12ca349e106b\">\n",
              "    <div class=\"colab-df-container\">\n",
              "      <div>\n",
              "<style scoped>\n",
              "    .dataframe tbody tr th:only-of-type {\n",
              "        vertical-align: middle;\n",
              "    }\n",
              "\n",
              "    .dataframe tbody tr th {\n",
              "        vertical-align: top;\n",
              "    }\n",
              "\n",
              "    .dataframe thead th {\n",
              "        text-align: right;\n",
              "    }\n",
              "</style>\n",
              "<table border=\"1\" class=\"dataframe\">\n",
              "  <thead>\n",
              "    <tr style=\"text-align: right;\">\n",
              "      <th></th>\n",
              "      <th>c00</th>\n",
              "      <th>c01</th>\n",
              "      <th>c02</th>\n",
              "      <th>c03</th>\n",
              "      <th>c04</th>\n",
              "      <th>c05</th>\n",
              "      <th>c06</th>\n",
              "      <th>c07</th>\n",
              "      <th>c08</th>\n",
              "      <th>c09</th>\n",
              "      <th>...</th>\n",
              "      <th>c55</th>\n",
              "      <th>c56</th>\n",
              "      <th>c57</th>\n",
              "      <th>c58</th>\n",
              "      <th>c59</th>\n",
              "      <th>c60</th>\n",
              "      <th>c61</th>\n",
              "      <th>c62</th>\n",
              "      <th>c63</th>\n",
              "      <th>target</th>\n",
              "    </tr>\n",
              "  </thead>\n",
              "  <tbody>\n",
              "    <tr>\n",
              "      <th>0</th>\n",
              "      <td>0</td>\n",
              "      <td>0</td>\n",
              "      <td>5</td>\n",
              "      <td>13</td>\n",
              "      <td>9</td>\n",
              "      <td>1</td>\n",
              "      <td>0</td>\n",
              "      <td>0</td>\n",
              "      <td>0</td>\n",
              "      <td>0</td>\n",
              "      <td>...</td>\n",
              "      <td>0</td>\n",
              "      <td>0</td>\n",
              "      <td>0</td>\n",
              "      <td>6</td>\n",
              "      <td>13</td>\n",
              "      <td>10</td>\n",
              "      <td>0</td>\n",
              "      <td>0</td>\n",
              "      <td>0</td>\n",
              "      <td>0</td>\n",
              "    </tr>\n",
              "    <tr>\n",
              "      <th>1</th>\n",
              "      <td>0</td>\n",
              "      <td>0</td>\n",
              "      <td>0</td>\n",
              "      <td>12</td>\n",
              "      <td>13</td>\n",
              "      <td>5</td>\n",
              "      <td>0</td>\n",
              "      <td>0</td>\n",
              "      <td>0</td>\n",
              "      <td>0</td>\n",
              "      <td>...</td>\n",
              "      <td>0</td>\n",
              "      <td>0</td>\n",
              "      <td>0</td>\n",
              "      <td>0</td>\n",
              "      <td>11</td>\n",
              "      <td>16</td>\n",
              "      <td>10</td>\n",
              "      <td>0</td>\n",
              "      <td>0</td>\n",
              "      <td>1</td>\n",
              "    </tr>\n",
              "    <tr>\n",
              "      <th>2</th>\n",
              "      <td>0</td>\n",
              "      <td>0</td>\n",
              "      <td>0</td>\n",
              "      <td>4</td>\n",
              "      <td>15</td>\n",
              "      <td>12</td>\n",
              "      <td>0</td>\n",
              "      <td>0</td>\n",
              "      <td>0</td>\n",
              "      <td>0</td>\n",
              "      <td>...</td>\n",
              "      <td>0</td>\n",
              "      <td>0</td>\n",
              "      <td>0</td>\n",
              "      <td>0</td>\n",
              "      <td>3</td>\n",
              "      <td>11</td>\n",
              "      <td>16</td>\n",
              "      <td>9</td>\n",
              "      <td>0</td>\n",
              "      <td>2</td>\n",
              "    </tr>\n",
              "    <tr>\n",
              "      <th>3</th>\n",
              "      <td>0</td>\n",
              "      <td>0</td>\n",
              "      <td>7</td>\n",
              "      <td>15</td>\n",
              "      <td>13</td>\n",
              "      <td>1</td>\n",
              "      <td>0</td>\n",
              "      <td>0</td>\n",
              "      <td>0</td>\n",
              "      <td>8</td>\n",
              "      <td>...</td>\n",
              "      <td>0</td>\n",
              "      <td>0</td>\n",
              "      <td>0</td>\n",
              "      <td>7</td>\n",
              "      <td>13</td>\n",
              "      <td>13</td>\n",
              "      <td>9</td>\n",
              "      <td>0</td>\n",
              "      <td>0</td>\n",
              "      <td>3</td>\n",
              "    </tr>\n",
              "    <tr>\n",
              "      <th>4</th>\n",
              "      <td>0</td>\n",
              "      <td>0</td>\n",
              "      <td>0</td>\n",
              "      <td>1</td>\n",
              "      <td>11</td>\n",
              "      <td>0</td>\n",
              "      <td>0</td>\n",
              "      <td>0</td>\n",
              "      <td>0</td>\n",
              "      <td>0</td>\n",
              "      <td>...</td>\n",
              "      <td>0</td>\n",
              "      <td>0</td>\n",
              "      <td>0</td>\n",
              "      <td>0</td>\n",
              "      <td>2</td>\n",
              "      <td>16</td>\n",
              "      <td>4</td>\n",
              "      <td>0</td>\n",
              "      <td>0</td>\n",
              "      <td>4</td>\n",
              "    </tr>\n",
              "  </tbody>\n",
              "</table>\n",
              "<p>5 rows × 65 columns</p>\n",
              "</div>\n",
              "      <button class=\"colab-df-convert\" onclick=\"convertToInteractive('df-b67b5ee2-67e4-4818-91a8-12ca349e106b')\"\n",
              "              title=\"Convert this dataframe to an interactive table.\"\n",
              "              style=\"display:none;\">\n",
              "        \n",
              "  <svg xmlns=\"http://www.w3.org/2000/svg\" height=\"24px\"viewBox=\"0 0 24 24\"\n",
              "       width=\"24px\">\n",
              "    <path d=\"M0 0h24v24H0V0z\" fill=\"none\"/>\n",
              "    <path d=\"M18.56 5.44l.94 2.06.94-2.06 2.06-.94-2.06-.94-.94-2.06-.94 2.06-2.06.94zm-11 1L8.5 8.5l.94-2.06 2.06-.94-2.06-.94L8.5 2.5l-.94 2.06-2.06.94zm10 10l.94 2.06.94-2.06 2.06-.94-2.06-.94-.94-2.06-.94 2.06-2.06.94z\"/><path d=\"M17.41 7.96l-1.37-1.37c-.4-.4-.92-.59-1.43-.59-.52 0-1.04.2-1.43.59L10.3 9.45l-7.72 7.72c-.78.78-.78 2.05 0 2.83L4 21.41c.39.39.9.59 1.41.59.51 0 1.02-.2 1.41-.59l7.78-7.78 2.81-2.81c.8-.78.8-2.07 0-2.86zM5.41 20L4 18.59l7.72-7.72 1.47 1.35L5.41 20z\"/>\n",
              "  </svg>\n",
              "      </button>\n",
              "      \n",
              "  <style>\n",
              "    .colab-df-container {\n",
              "      display:flex;\n",
              "      flex-wrap:wrap;\n",
              "      gap: 12px;\n",
              "    }\n",
              "\n",
              "    .colab-df-convert {\n",
              "      background-color: #E8F0FE;\n",
              "      border: none;\n",
              "      border-radius: 50%;\n",
              "      cursor: pointer;\n",
              "      display: none;\n",
              "      fill: #1967D2;\n",
              "      height: 32px;\n",
              "      padding: 0 0 0 0;\n",
              "      width: 32px;\n",
              "    }\n",
              "\n",
              "    .colab-df-convert:hover {\n",
              "      background-color: #E2EBFA;\n",
              "      box-shadow: 0px 1px 2px rgba(60, 64, 67, 0.3), 0px 1px 3px 1px rgba(60, 64, 67, 0.15);\n",
              "      fill: #174EA6;\n",
              "    }\n",
              "\n",
              "    [theme=dark] .colab-df-convert {\n",
              "      background-color: #3B4455;\n",
              "      fill: #D2E3FC;\n",
              "    }\n",
              "\n",
              "    [theme=dark] .colab-df-convert:hover {\n",
              "      background-color: #434B5C;\n",
              "      box-shadow: 0px 1px 3px 1px rgba(0, 0, 0, 0.15);\n",
              "      filter: drop-shadow(0px 1px 2px rgba(0, 0, 0, 0.3));\n",
              "      fill: #FFFFFF;\n",
              "    }\n",
              "  </style>\n",
              "\n",
              "      <script>\n",
              "        const buttonEl =\n",
              "          document.querySelector('#df-b67b5ee2-67e4-4818-91a8-12ca349e106b button.colab-df-convert');\n",
              "        buttonEl.style.display =\n",
              "          google.colab.kernel.accessAllowed ? 'block' : 'none';\n",
              "\n",
              "        async function convertToInteractive(key) {\n",
              "          const element = document.querySelector('#df-b67b5ee2-67e4-4818-91a8-12ca349e106b');\n",
              "          const dataTable =\n",
              "            await google.colab.kernel.invokeFunction('convertToInteractive',\n",
              "                                                     [key], {});\n",
              "          if (!dataTable) return;\n",
              "\n",
              "          const docLinkHtml = 'Like what you see? Visit the ' +\n",
              "            '<a target=\"_blank\" href=https://colab.research.google.com/notebooks/data_table.ipynb>data table notebook</a>'\n",
              "            + ' to learn more about interactive tables.';\n",
              "          element.innerHTML = '';\n",
              "          dataTable['output_type'] = 'display_data';\n",
              "          await google.colab.output.renderOutput(dataTable, element);\n",
              "          const docLink = document.createElement('div');\n",
              "          docLink.innerHTML = docLinkHtml;\n",
              "          element.appendChild(docLink);\n",
              "        }\n",
              "      </script>\n",
              "    </div>\n",
              "  </div>\n",
              "  "
            ]
          },
          "metadata": {},
          "execution_count": 5
        }
      ],
      "source": [
        "digits = (\n",
        "    pd.DataFrame(\n",
        "        digits_dict[\"data\"],\n",
        "    )\n",
        "    .rename(columns=lambda x: f\"c{x:02d}\")\n",
        "    .assign(target=digits_dict[\"target\"])\n",
        "    .astype(int)\n",
        ")\n",
        "\n",
        "digits.head()"
      ]
    },
    {
      "cell_type": "markdown",
      "metadata": {
        "id": "ACdbwPZx2yo8"
      },
      "source": [
        "### Ejercicio 1\n",
        "**Análisis exploratorio:** Realiza tu análisis exploratorio, no debes olvidar nada! Recuerda, cada análisis debe responder una pregunta.\n",
        "\n",
        "Algunas sugerencias:\n",
        "\n",
        "* ¿Cómo se distribuyen los datos?\n",
        "* ¿Cuánta memoria estoy utilizando?\n",
        "* ¿Qué tipo de datos son?\n",
        "* ¿Cuántos registros por clase hay?\n",
        "* ¿Hay registros que no se correspondan con tu conocimiento previo de los datos?"
      ]
    },
    {
      "cell_type": "code",
      "source": [
        "\n",
        "from matplotlib.pyplot import figure\n",
        "import seaborn as sns\n",
        "from sklearn.model_selection import train_test_split\n",
        "from sklearn.linear_model import LogisticRegression\n",
        "from sklearn.neighbors import KNeighborsClassifier\n",
        "from sklearn import tree\n",
        "from sklearn.metrics import confusion_matrix\n",
        "from sklearn.metrics import classification_report\n",
        "from sklearn.model_selection import GridSearchCV\n",
        "from sklearn import svm\n",
        "import warnings\n",
        "import timeit\n",
        "import time\n",
        "\n",
        "warnings.filterwarnings(\"ignore\")\n",
        "\n",
        "sns.set_palette(\"deep\", desat=.6)\n",
        "sns.set(rc={'figure.figsize':(20,30)})\n",
        "%matplotlib inline\n"
      ],
      "metadata": {
        "id": "6CZGbQ_r3S2N"
      },
      "execution_count": 6,
      "outputs": []
    },
    {
      "cell_type": "code",
      "source": [
        "\n",
        "digits.describe()\n"
      ],
      "metadata": {
        "id": "GA_IbQrl3W3D",
        "outputId": "99444728-bd22-4f87-9349-fca9bf02654e",
        "colab": {
          "base_uri": "https://localhost:8080/",
          "height": 393
        }
      },
      "execution_count": 7,
      "outputs": [
        {
          "output_type": "execute_result",
          "data": {
            "text/plain": [
              "          c00          c01          c02          c03          c04  \\\n",
              "count  1797.0  1797.000000  1797.000000  1797.000000  1797.000000   \n",
              "mean      0.0     0.303840     5.204786    11.835838    11.848080   \n",
              "std       0.0     0.907192     4.754826     4.248842     4.287388   \n",
              "min       0.0     0.000000     0.000000     0.000000     0.000000   \n",
              "25%       0.0     0.000000     1.000000    10.000000    10.000000   \n",
              "50%       0.0     0.000000     4.000000    13.000000    13.000000   \n",
              "75%       0.0     0.000000     9.000000    15.000000    15.000000   \n",
              "max       0.0     8.000000    16.000000    16.000000    16.000000   \n",
              "\n",
              "               c05          c06          c07          c08          c09  ...  \\\n",
              "count  1797.000000  1797.000000  1797.000000  1797.000000  1797.000000  ...   \n",
              "mean      5.781859     1.362270     0.129661     0.005565     1.993879  ...   \n",
              "std       5.666418     3.325775     1.037383     0.094222     3.196160  ...   \n",
              "min       0.000000     0.000000     0.000000     0.000000     0.000000  ...   \n",
              "25%       0.000000     0.000000     0.000000     0.000000     0.000000  ...   \n",
              "50%       4.000000     0.000000     0.000000     0.000000     0.000000  ...   \n",
              "75%      11.000000     0.000000     0.000000     0.000000     3.000000  ...   \n",
              "max      16.000000    16.000000    15.000000     2.000000    16.000000  ...   \n",
              "\n",
              "               c55          c56          c57          c58          c59  \\\n",
              "count  1797.000000  1797.000000  1797.000000  1797.000000  1797.000000   \n",
              "mean      0.206455     0.000556     0.279354     5.557596    12.089037   \n",
              "std       0.984401     0.023590     0.934302     5.103019     4.374694   \n",
              "min       0.000000     0.000000     0.000000     0.000000     0.000000   \n",
              "25%       0.000000     0.000000     0.000000     1.000000    11.000000   \n",
              "50%       0.000000     0.000000     0.000000     4.000000    13.000000   \n",
              "75%       0.000000     0.000000     0.000000    10.000000    16.000000   \n",
              "max      13.000000     1.000000     9.000000    16.000000    16.000000   \n",
              "\n",
              "               c60          c61          c62          c63       target  \n",
              "count  1797.000000  1797.000000  1797.000000  1797.000000  1797.000000  \n",
              "mean     11.809126     6.764051     2.067891     0.364496     4.490818  \n",
              "std       4.933947     5.900623     4.090548     1.860122     2.865304  \n",
              "min       0.000000     0.000000     0.000000     0.000000     0.000000  \n",
              "25%      10.000000     0.000000     0.000000     0.000000     2.000000  \n",
              "50%      14.000000     6.000000     0.000000     0.000000     4.000000  \n",
              "75%      16.000000    12.000000     2.000000     0.000000     7.000000  \n",
              "max      16.000000    16.000000    16.000000    16.000000     9.000000  \n",
              "\n",
              "[8 rows x 65 columns]"
            ],
            "text/html": [
              "\n",
              "  <div id=\"df-40dc5dd6-e57b-46d0-9645-03535a832c01\">\n",
              "    <div class=\"colab-df-container\">\n",
              "      <div>\n",
              "<style scoped>\n",
              "    .dataframe tbody tr th:only-of-type {\n",
              "        vertical-align: middle;\n",
              "    }\n",
              "\n",
              "    .dataframe tbody tr th {\n",
              "        vertical-align: top;\n",
              "    }\n",
              "\n",
              "    .dataframe thead th {\n",
              "        text-align: right;\n",
              "    }\n",
              "</style>\n",
              "<table border=\"1\" class=\"dataframe\">\n",
              "  <thead>\n",
              "    <tr style=\"text-align: right;\">\n",
              "      <th></th>\n",
              "      <th>c00</th>\n",
              "      <th>c01</th>\n",
              "      <th>c02</th>\n",
              "      <th>c03</th>\n",
              "      <th>c04</th>\n",
              "      <th>c05</th>\n",
              "      <th>c06</th>\n",
              "      <th>c07</th>\n",
              "      <th>c08</th>\n",
              "      <th>c09</th>\n",
              "      <th>...</th>\n",
              "      <th>c55</th>\n",
              "      <th>c56</th>\n",
              "      <th>c57</th>\n",
              "      <th>c58</th>\n",
              "      <th>c59</th>\n",
              "      <th>c60</th>\n",
              "      <th>c61</th>\n",
              "      <th>c62</th>\n",
              "      <th>c63</th>\n",
              "      <th>target</th>\n",
              "    </tr>\n",
              "  </thead>\n",
              "  <tbody>\n",
              "    <tr>\n",
              "      <th>count</th>\n",
              "      <td>1797.0</td>\n",
              "      <td>1797.000000</td>\n",
              "      <td>1797.000000</td>\n",
              "      <td>1797.000000</td>\n",
              "      <td>1797.000000</td>\n",
              "      <td>1797.000000</td>\n",
              "      <td>1797.000000</td>\n",
              "      <td>1797.000000</td>\n",
              "      <td>1797.000000</td>\n",
              "      <td>1797.000000</td>\n",
              "      <td>...</td>\n",
              "      <td>1797.000000</td>\n",
              "      <td>1797.000000</td>\n",
              "      <td>1797.000000</td>\n",
              "      <td>1797.000000</td>\n",
              "      <td>1797.000000</td>\n",
              "      <td>1797.000000</td>\n",
              "      <td>1797.000000</td>\n",
              "      <td>1797.000000</td>\n",
              "      <td>1797.000000</td>\n",
              "      <td>1797.000000</td>\n",
              "    </tr>\n",
              "    <tr>\n",
              "      <th>mean</th>\n",
              "      <td>0.0</td>\n",
              "      <td>0.303840</td>\n",
              "      <td>5.204786</td>\n",
              "      <td>11.835838</td>\n",
              "      <td>11.848080</td>\n",
              "      <td>5.781859</td>\n",
              "      <td>1.362270</td>\n",
              "      <td>0.129661</td>\n",
              "      <td>0.005565</td>\n",
              "      <td>1.993879</td>\n",
              "      <td>...</td>\n",
              "      <td>0.206455</td>\n",
              "      <td>0.000556</td>\n",
              "      <td>0.279354</td>\n",
              "      <td>5.557596</td>\n",
              "      <td>12.089037</td>\n",
              "      <td>11.809126</td>\n",
              "      <td>6.764051</td>\n",
              "      <td>2.067891</td>\n",
              "      <td>0.364496</td>\n",
              "      <td>4.490818</td>\n",
              "    </tr>\n",
              "    <tr>\n",
              "      <th>std</th>\n",
              "      <td>0.0</td>\n",
              "      <td>0.907192</td>\n",
              "      <td>4.754826</td>\n",
              "      <td>4.248842</td>\n",
              "      <td>4.287388</td>\n",
              "      <td>5.666418</td>\n",
              "      <td>3.325775</td>\n",
              "      <td>1.037383</td>\n",
              "      <td>0.094222</td>\n",
              "      <td>3.196160</td>\n",
              "      <td>...</td>\n",
              "      <td>0.984401</td>\n",
              "      <td>0.023590</td>\n",
              "      <td>0.934302</td>\n",
              "      <td>5.103019</td>\n",
              "      <td>4.374694</td>\n",
              "      <td>4.933947</td>\n",
              "      <td>5.900623</td>\n",
              "      <td>4.090548</td>\n",
              "      <td>1.860122</td>\n",
              "      <td>2.865304</td>\n",
              "    </tr>\n",
              "    <tr>\n",
              "      <th>min</th>\n",
              "      <td>0.0</td>\n",
              "      <td>0.000000</td>\n",
              "      <td>0.000000</td>\n",
              "      <td>0.000000</td>\n",
              "      <td>0.000000</td>\n",
              "      <td>0.000000</td>\n",
              "      <td>0.000000</td>\n",
              "      <td>0.000000</td>\n",
              "      <td>0.000000</td>\n",
              "      <td>0.000000</td>\n",
              "      <td>...</td>\n",
              "      <td>0.000000</td>\n",
              "      <td>0.000000</td>\n",
              "      <td>0.000000</td>\n",
              "      <td>0.000000</td>\n",
              "      <td>0.000000</td>\n",
              "      <td>0.000000</td>\n",
              "      <td>0.000000</td>\n",
              "      <td>0.000000</td>\n",
              "      <td>0.000000</td>\n",
              "      <td>0.000000</td>\n",
              "    </tr>\n",
              "    <tr>\n",
              "      <th>25%</th>\n",
              "      <td>0.0</td>\n",
              "      <td>0.000000</td>\n",
              "      <td>1.000000</td>\n",
              "      <td>10.000000</td>\n",
              "      <td>10.000000</td>\n",
              "      <td>0.000000</td>\n",
              "      <td>0.000000</td>\n",
              "      <td>0.000000</td>\n",
              "      <td>0.000000</td>\n",
              "      <td>0.000000</td>\n",
              "      <td>...</td>\n",
              "      <td>0.000000</td>\n",
              "      <td>0.000000</td>\n",
              "      <td>0.000000</td>\n",
              "      <td>1.000000</td>\n",
              "      <td>11.000000</td>\n",
              "      <td>10.000000</td>\n",
              "      <td>0.000000</td>\n",
              "      <td>0.000000</td>\n",
              "      <td>0.000000</td>\n",
              "      <td>2.000000</td>\n",
              "    </tr>\n",
              "    <tr>\n",
              "      <th>50%</th>\n",
              "      <td>0.0</td>\n",
              "      <td>0.000000</td>\n",
              "      <td>4.000000</td>\n",
              "      <td>13.000000</td>\n",
              "      <td>13.000000</td>\n",
              "      <td>4.000000</td>\n",
              "      <td>0.000000</td>\n",
              "      <td>0.000000</td>\n",
              "      <td>0.000000</td>\n",
              "      <td>0.000000</td>\n",
              "      <td>...</td>\n",
              "      <td>0.000000</td>\n",
              "      <td>0.000000</td>\n",
              "      <td>0.000000</td>\n",
              "      <td>4.000000</td>\n",
              "      <td>13.000000</td>\n",
              "      <td>14.000000</td>\n",
              "      <td>6.000000</td>\n",
              "      <td>0.000000</td>\n",
              "      <td>0.000000</td>\n",
              "      <td>4.000000</td>\n",
              "    </tr>\n",
              "    <tr>\n",
              "      <th>75%</th>\n",
              "      <td>0.0</td>\n",
              "      <td>0.000000</td>\n",
              "      <td>9.000000</td>\n",
              "      <td>15.000000</td>\n",
              "      <td>15.000000</td>\n",
              "      <td>11.000000</td>\n",
              "      <td>0.000000</td>\n",
              "      <td>0.000000</td>\n",
              "      <td>0.000000</td>\n",
              "      <td>3.000000</td>\n",
              "      <td>...</td>\n",
              "      <td>0.000000</td>\n",
              "      <td>0.000000</td>\n",
              "      <td>0.000000</td>\n",
              "      <td>10.000000</td>\n",
              "      <td>16.000000</td>\n",
              "      <td>16.000000</td>\n",
              "      <td>12.000000</td>\n",
              "      <td>2.000000</td>\n",
              "      <td>0.000000</td>\n",
              "      <td>7.000000</td>\n",
              "    </tr>\n",
              "    <tr>\n",
              "      <th>max</th>\n",
              "      <td>0.0</td>\n",
              "      <td>8.000000</td>\n",
              "      <td>16.000000</td>\n",
              "      <td>16.000000</td>\n",
              "      <td>16.000000</td>\n",
              "      <td>16.000000</td>\n",
              "      <td>16.000000</td>\n",
              "      <td>15.000000</td>\n",
              "      <td>2.000000</td>\n",
              "      <td>16.000000</td>\n",
              "      <td>...</td>\n",
              "      <td>13.000000</td>\n",
              "      <td>1.000000</td>\n",
              "      <td>9.000000</td>\n",
              "      <td>16.000000</td>\n",
              "      <td>16.000000</td>\n",
              "      <td>16.000000</td>\n",
              "      <td>16.000000</td>\n",
              "      <td>16.000000</td>\n",
              "      <td>16.000000</td>\n",
              "      <td>9.000000</td>\n",
              "    </tr>\n",
              "  </tbody>\n",
              "</table>\n",
              "<p>8 rows × 65 columns</p>\n",
              "</div>\n",
              "      <button class=\"colab-df-convert\" onclick=\"convertToInteractive('df-40dc5dd6-e57b-46d0-9645-03535a832c01')\"\n",
              "              title=\"Convert this dataframe to an interactive table.\"\n",
              "              style=\"display:none;\">\n",
              "        \n",
              "  <svg xmlns=\"http://www.w3.org/2000/svg\" height=\"24px\"viewBox=\"0 0 24 24\"\n",
              "       width=\"24px\">\n",
              "    <path d=\"M0 0h24v24H0V0z\" fill=\"none\"/>\n",
              "    <path d=\"M18.56 5.44l.94 2.06.94-2.06 2.06-.94-2.06-.94-.94-2.06-.94 2.06-2.06.94zm-11 1L8.5 8.5l.94-2.06 2.06-.94-2.06-.94L8.5 2.5l-.94 2.06-2.06.94zm10 10l.94 2.06.94-2.06 2.06-.94-2.06-.94-.94-2.06-.94 2.06-2.06.94z\"/><path d=\"M17.41 7.96l-1.37-1.37c-.4-.4-.92-.59-1.43-.59-.52 0-1.04.2-1.43.59L10.3 9.45l-7.72 7.72c-.78.78-.78 2.05 0 2.83L4 21.41c.39.39.9.59 1.41.59.51 0 1.02-.2 1.41-.59l7.78-7.78 2.81-2.81c.8-.78.8-2.07 0-2.86zM5.41 20L4 18.59l7.72-7.72 1.47 1.35L5.41 20z\"/>\n",
              "  </svg>\n",
              "      </button>\n",
              "      \n",
              "  <style>\n",
              "    .colab-df-container {\n",
              "      display:flex;\n",
              "      flex-wrap:wrap;\n",
              "      gap: 12px;\n",
              "    }\n",
              "\n",
              "    .colab-df-convert {\n",
              "      background-color: #E8F0FE;\n",
              "      border: none;\n",
              "      border-radius: 50%;\n",
              "      cursor: pointer;\n",
              "      display: none;\n",
              "      fill: #1967D2;\n",
              "      height: 32px;\n",
              "      padding: 0 0 0 0;\n",
              "      width: 32px;\n",
              "    }\n",
              "\n",
              "    .colab-df-convert:hover {\n",
              "      background-color: #E2EBFA;\n",
              "      box-shadow: 0px 1px 2px rgba(60, 64, 67, 0.3), 0px 1px 3px 1px rgba(60, 64, 67, 0.15);\n",
              "      fill: #174EA6;\n",
              "    }\n",
              "\n",
              "    [theme=dark] .colab-df-convert {\n",
              "      background-color: #3B4455;\n",
              "      fill: #D2E3FC;\n",
              "    }\n",
              "\n",
              "    [theme=dark] .colab-df-convert:hover {\n",
              "      background-color: #434B5C;\n",
              "      box-shadow: 0px 1px 3px 1px rgba(0, 0, 0, 0.15);\n",
              "      filter: drop-shadow(0px 1px 2px rgba(0, 0, 0, 0.3));\n",
              "      fill: #FFFFFF;\n",
              "    }\n",
              "  </style>\n",
              "\n",
              "      <script>\n",
              "        const buttonEl =\n",
              "          document.querySelector('#df-40dc5dd6-e57b-46d0-9645-03535a832c01 button.colab-df-convert');\n",
              "        buttonEl.style.display =\n",
              "          google.colab.kernel.accessAllowed ? 'block' : 'none';\n",
              "\n",
              "        async function convertToInteractive(key) {\n",
              "          const element = document.querySelector('#df-40dc5dd6-e57b-46d0-9645-03535a832c01');\n",
              "          const dataTable =\n",
              "            await google.colab.kernel.invokeFunction('convertToInteractive',\n",
              "                                                     [key], {});\n",
              "          if (!dataTable) return;\n",
              "\n",
              "          const docLinkHtml = 'Like what you see? Visit the ' +\n",
              "            '<a target=\"_blank\" href=https://colab.research.google.com/notebooks/data_table.ipynb>data table notebook</a>'\n",
              "            + ' to learn more about interactive tables.';\n",
              "          element.innerHTML = '';\n",
              "          dataTable['output_type'] = 'display_data';\n",
              "          await google.colab.output.renderOutput(dataTable, element);\n",
              "          const docLink = document.createElement('div');\n",
              "          docLink.innerHTML = docLinkHtml;\n",
              "          element.appendChild(docLink);\n",
              "        }\n",
              "      </script>\n",
              "    </div>\n",
              "  </div>\n",
              "  "
            ]
          },
          "metadata": {},
          "execution_count": 7
        }
      ]
    },
    {
      "cell_type": "markdown",
      "source": [
        "**¿Como se distribuyen los datos?**"
      ],
      "metadata": {
        "id": "rDdyJtSp3GK0"
      }
    },
    {
      "cell_type": "code",
      "execution_count": 35,
      "metadata": {
        "id": "1NF7r_pA2ypC",
        "outputId": "325f9965-66d3-4ac4-a6b6-780e7a6a1b38",
        "colab": {
          "base_uri": "https://localhost:8080/",
          "height": 337
        }
      },
      "outputs": [
        {
          "output_type": "stream",
          "name": "stdout",
          "text": [
            "65\n"
          ]
        },
        {
          "output_type": "display_data",
          "data": {
            "text/plain": [
              "<Figure size 576x288 with 1 Axes>"
            ],
            "image/png": "[encoded data removed]"
          },
          "metadata": {
            "needs_background": "light"
          }
        },
        {
          "output_type": "stream",
          "name": "stdout",
          "text": [
            "\n"
          ]
        }
      ],
      "source": [
        "\n",
        "print(len(digits.columns))\n",
        "gr = digits.groupby(['target']).size().reset_index(name='counts')\n",
        "fig, ax = plt.subplots(figsize=(8,4),nrows=1)\n",
        "sns.barplot(data=gr, x='target', y='counts', palette=\"gray_r\",ax=ax)\n",
        "ax.set_title('Distribución de clases')\n",
        "plt.show()\n",
        "print(\"\")"
      ]
    },
    {
      "cell_type": "code",
      "source": [
        "\n",
        "df=digits.drop(['target'],axis=1) #df sin target\n",
        "figure(num=None, figsize=(30, 30)) \n",
        "k=1 \n",
        "for i in df.columns: #recorrer columnas\n",
        "    plt.subplot(8,8,k)\n",
        "    plt.hist(df[i], bins = 60)\n",
        "    plt.title('Histograma para la celda '+i)\n",
        "    k+=1\n",
        "\n",
        "plt.show()"
      ],
      "metadata": {
        "id": "LaAIf7kr3dcA",
        "outputId": "3b7fd9b9-61d2-4673-daa6-c290672205e6",
        "colab": {
          "base_uri": "https://localhost:8080/",
          "height": 1000
        }
      },
      "execution_count": 9,
      "outputs": [
        {
          "output_type": "display_data",
          "data": {
            "text/plain": [
              "<Figure size 2160x2160 with 64 Axes>"
            ],
            "image/png": "[encoded data removed]"
          },
          "metadata": {
            "needs_background": "light"
          }
        }
      ]
    },
    {
      "cell_type": "markdown",
      "source": [
        "**¿Cuánta memoria estoy utilizando?**"
      ],
      "metadata": {
        "id": "mSBbxIoD3b3u"
      }
    },
    {
      "cell_type": "code",
      "source": [
        "\n",
        "import sys\n",
        "memoria = digits.memory_usage() \n",
        "memoria\n",
        "total = 0\n",
        "for i in range(0,len(memoria)):\n",
        "    total += memoria[i] \n",
        "print(total,'bytes')"
      ],
      "metadata": {
        "id": "Qoo0sXx63fUr",
        "outputId": "8188e1c1-cacd-4e20-f030-c3bd38cc562f",
        "colab": {
          "base_uri": "https://localhost:8080/"
        }
      },
      "execution_count": 10,
      "outputs": [
        {
          "output_type": "stream",
          "name": "stdout",
          "text": [
            "934568 bytes\n"
          ]
        }
      ]
    },
    {
      "cell_type": "markdown",
      "source": [
        "**¿Qué tipo de datos son?**"
      ],
      "metadata": {
        "id": "QiWaTsBL3uEP"
      }
    },
    {
      "cell_type": "code",
      "source": [
        "digits.dtypes.unique()"
      ],
      "metadata": {
        "id": "9P6d4Rxt3x6v",
        "outputId": "81036220-d9e4-456d-dbc1-b6c4cfd82c4b",
        "colab": {
          "base_uri": "https://localhost:8080/"
        }
      },
      "execution_count": 11,
      "outputs": [
        {
          "output_type": "execute_result",
          "data": {
            "text/plain": [
              "array([dtype('int64')], dtype=object)"
            ]
          },
          "metadata": {},
          "execution_count": 11
        }
      ]
    },
    {
      "cell_type": "markdown",
      "source": [
        "**¿Cuántos registros por clases hay?**"
      ],
      "metadata": {
        "id": "389l3SjH4OiU"
      }
    },
    {
      "cell_type": "code",
      "source": [
        "df_mask= digits[\"target\"]==0\n",
        "filtered_df = digits[df_mask]"
      ],
      "metadata": {
        "id": "70cySOwIjeZv"
      },
      "execution_count": 46,
      "outputs": []
    },
    {
      "cell_type": "code",
      "source": [
        "#clase del 0\n",
        "filtered_df.shape[0]"
      ],
      "metadata": {
        "id": "3ukS5ApVleLl",
        "outputId": "7c1ae53f-b98b-428e-e253-7fc867025264",
        "colab": {
          "base_uri": "https://localhost:8080/"
        }
      },
      "execution_count": 51,
      "outputs": [
        {
          "output_type": "execute_result",
          "data": {
            "text/plain": [
              "178"
            ]
          },
          "metadata": {},
          "execution_count": 51
        }
      ]
    },
    {
      "cell_type": "code",
      "source": [
        "df_mask= digits[\"target\"]==1\n",
        "filtered_df1 = digits[df_mask]"
      ],
      "metadata": {
        "id": "onjOMDEXlp0W"
      },
      "execution_count": 52,
      "outputs": []
    },
    {
      "cell_type": "code",
      "source": [
        "#clase del 1\n",
        "filtered_df1.shape[0]"
      ],
      "metadata": {
        "id": "Fc5ouKZSmStc",
        "outputId": "84046ab0-8935-4ea0-f6ad-2efcb0cb29c5",
        "colab": {
          "base_uri": "https://localhost:8080/"
        }
      },
      "execution_count": 53,
      "outputs": [
        {
          "output_type": "execute_result",
          "data": {
            "text/plain": [
              "182"
            ]
          },
          "metadata": {},
          "execution_count": 53
        }
      ]
    },
    {
      "cell_type": "code",
      "source": [
        "df_mask= digits[\"target\"]==2\n",
        "filtered_df2 = digits[df_mask]"
      ],
      "metadata": {
        "id": "N8cJHi7alq0B"
      },
      "execution_count": 54,
      "outputs": []
    },
    {
      "cell_type": "code",
      "source": [
        "#clase del 2\n",
        "filtered_df2.shape[0]"
      ],
      "metadata": {
        "id": "KvwVsiMjmVZZ",
        "outputId": "fa0ac979-ff9f-4714-cd73-f065147afefc",
        "colab": {
          "base_uri": "https://localhost:8080/"
        }
      },
      "execution_count": 55,
      "outputs": [
        {
          "output_type": "execute_result",
          "data": {
            "text/plain": [
              "177"
            ]
          },
          "metadata": {},
          "execution_count": 55
        }
      ]
    },
    {
      "cell_type": "code",
      "source": [
        "df_mask= digits[\"target\"]==3\n",
        "filtered_df3 = digits[df_mask]"
      ],
      "metadata": {
        "id": "SR7H6Znulrr7"
      },
      "execution_count": 56,
      "outputs": []
    },
    {
      "cell_type": "code",
      "source": [
        "#clase del 3\n",
        "filtered_df3.shape[0]"
      ],
      "metadata": {
        "id": "bDDL2vwTmWbe",
        "outputId": "47642c00-c4df-4629-901a-9c3880b651bc",
        "colab": {
          "base_uri": "https://localhost:8080/"
        }
      },
      "execution_count": 57,
      "outputs": [
        {
          "output_type": "execute_result",
          "data": {
            "text/plain": [
              "183"
            ]
          },
          "metadata": {},
          "execution_count": 57
        }
      ]
    },
    {
      "cell_type": "code",
      "source": [
        "df_mask= digits[\"target\"]==4\n",
        "filtered_df4 = digits[df_mask]"
      ],
      "metadata": {
        "id": "G4fMeSwvlsF9"
      },
      "execution_count": 58,
      "outputs": []
    },
    {
      "cell_type": "code",
      "source": [
        "#clase del 4\n",
        "filtered_df4.shape[0]"
      ],
      "metadata": {
        "id": "pFMQ6xSSmXXT",
        "outputId": "fcdcdcbd-cfd1-416c-b0c6-0a8122defaea",
        "colab": {
          "base_uri": "https://localhost:8080/"
        }
      },
      "execution_count": 59,
      "outputs": [
        {
          "output_type": "execute_result",
          "data": {
            "text/plain": [
              "181"
            ]
          },
          "metadata": {},
          "execution_count": 59
        }
      ]
    },
    {
      "cell_type": "code",
      "source": [
        "df_mask= digits[\"target\"]==5\n",
        "filtered_df5 = digits[df_mask]"
      ],
      "metadata": {
        "id": "W6FbohAqlsZE"
      },
      "execution_count": 60,
      "outputs": []
    },
    {
      "cell_type": "code",
      "source": [
        "#clase del 5\n",
        "filtered_df5.shape[0]"
      ],
      "metadata": {
        "id": "Usd9VsFFmZ8_",
        "outputId": "9e18553f-496b-439b-9649-47d6becba4cb",
        "colab": {
          "base_uri": "https://localhost:8080/"
        }
      },
      "execution_count": 61,
      "outputs": [
        {
          "output_type": "execute_result",
          "data": {
            "text/plain": [
              "182"
            ]
          },
          "metadata": {},
          "execution_count": 61
        }
      ]
    },
    {
      "cell_type": "code",
      "source": [
        "df_mask= digits[\"target\"]==6\n",
        "filtered_df6 = digits[df_mask]"
      ],
      "metadata": {
        "id": "0e93riidlsyZ"
      },
      "execution_count": 62,
      "outputs": []
    },
    {
      "cell_type": "code",
      "source": [
        "#clase del 6\n",
        "filtered_df6.shape[0]"
      ],
      "metadata": {
        "id": "14wEKTfombBp",
        "outputId": "9a4f597d-1109-4bee-e4ad-9d571b38b41d",
        "colab": {
          "base_uri": "https://localhost:8080/"
        }
      },
      "execution_count": 63,
      "outputs": [
        {
          "output_type": "execute_result",
          "data": {
            "text/plain": [
              "181"
            ]
          },
          "metadata": {},
          "execution_count": 63
        }
      ]
    },
    {
      "cell_type": "code",
      "source": [
        "df_mask= digits[\"target\"]==7\n",
        "filtered_df7 = digits[df_mask]"
      ],
      "metadata": {
        "id": "Dnk_Ky_5ltET"
      },
      "execution_count": 64,
      "outputs": []
    },
    {
      "cell_type": "code",
      "source": [
        "#clase del 7\n",
        "filtered_df7.shape[0]"
      ],
      "metadata": {
        "id": "fBxMAS2Ambyj",
        "outputId": "d2696a94-37ac-4194-e0ae-87627ec97e6e",
        "colab": {
          "base_uri": "https://localhost:8080/"
        }
      },
      "execution_count": 65,
      "outputs": [
        {
          "output_type": "execute_result",
          "data": {
            "text/plain": [
              "179"
            ]
          },
          "metadata": {},
          "execution_count": 65
        }
      ]
    },
    {
      "cell_type": "code",
      "source": [
        "df_mask= digits[\"target\"]==8\n",
        "filtered_df8 = digits[df_mask]"
      ],
      "metadata": {
        "id": "l8cV6QIjltcH"
      },
      "execution_count": 66,
      "outputs": []
    },
    {
      "cell_type": "code",
      "source": [
        "#clase del 8\n",
        "filtered_df8.shape[0]"
      ],
      "metadata": {
        "id": "MZ6En4_9mc2E",
        "outputId": "4e27478d-9da1-4e84-a428-4eb19014f84b",
        "colab": {
          "base_uri": "https://localhost:8080/"
        }
      },
      "execution_count": 67,
      "outputs": [
        {
          "output_type": "execute_result",
          "data": {
            "text/plain": [
              "174"
            ]
          },
          "metadata": {},
          "execution_count": 67
        }
      ]
    },
    {
      "cell_type": "code",
      "source": [
        "df_mask= digits[\"target\"]==9\n",
        "filtered_df9 = digits[df_mask]"
      ],
      "metadata": {
        "id": "fQsSoMpZltz2"
      },
      "execution_count": 68,
      "outputs": []
    },
    {
      "cell_type": "code",
      "source": [
        "#clase del 9\n",
        "filtered_df9.shape[0]"
      ],
      "metadata": {
        "id": "ZUN53jLVmdvT",
        "outputId": "8518a3c7-cbcb-4e3b-9778-89c59f265aec",
        "colab": {
          "base_uri": "https://localhost:8080/"
        }
      },
      "execution_count": 69,
      "outputs": [
        {
          "output_type": "execute_result",
          "data": {
            "text/plain": [
              "180"
            ]
          },
          "metadata": {},
          "execution_count": 69
        }
      ]
    },
    {
      "cell_type": "markdown",
      "source": [
        "**¿Hay registros que no correspondan con tu conocimiento previo de los datos?**"
      ],
      "metadata": {
        "id": "Tw2a8jYY303g"
      }
    },
    {
      "cell_type": "code",
      "source": [
        "digits.describe().T['count'].unique()\n"
      ],
      "metadata": {
        "id": "jMBV7U3q4GRK",
        "outputId": "b6ff8e76-00e7-4b48-ccd7-ec2b491c590f",
        "colab": {
          "base_uri": "https://localhost:8080/"
        }
      },
      "execution_count": 12,
      "outputs": [
        {
          "output_type": "execute_result",
          "data": {
            "text/plain": [
              "array([1797.])"
            ]
          },
          "metadata": {},
          "execution_count": 12
        }
      ]
    },
    {
      "cell_type": "markdown",
      "source": [
        "R: No"
      ],
      "metadata": {
        "id": "pgoTymCGx_fr"
      }
    },
    {
      "cell_type": "markdown",
      "metadata": {
        "id": "1w__X8oY2ypD"
      },
      "source": [
        "### Ejercicio 2\n",
        "**Visualización:** Para visualizar los datos utilizaremos el método `imshow` de `matplotlib`. Resulta necesario convertir el arreglo desde las dimensiones (1,64)  a (8,8) para que la imagen sea cuadrada y pueda distinguirse el dígito. Superpondremos además el label correspondiente al dígito, mediante el método `text`. Esto nos permitirá comparar la imagen generada con la etiqueta asociada a los valores. Realizaremos lo anterior para los primeros 25 datos del archivo."
      ]
    },
    {
      "cell_type": "code",
      "execution_count": 13,
      "metadata": {
        "id": "k2ciaJy12ypE",
        "outputId": "1ab04696-c049-4641-98ca-d4348ce50fc8",
        "colab": {
          "base_uri": "https://localhost:8080/"
        }
      },
      "outputs": [
        {
          "output_type": "execute_result",
          "data": {
            "text/plain": [
              "array([[ 0.,  0.,  5., 13.,  9.,  1.,  0.,  0.],\n",
              "       [ 0.,  0., 13., 15., 10., 15.,  5.,  0.],\n",
              "       [ 0.,  3., 15.,  2.,  0., 11.,  8.,  0.],\n",
              "       [ 0.,  4., 12.,  0.,  0.,  8.,  8.,  0.],\n",
              "       [ 0.,  5.,  8.,  0.,  0.,  9.,  8.,  0.],\n",
              "       [ 0.,  4., 11.,  0.,  1., 12.,  7.,  0.],\n",
              "       [ 0.,  2., 14.,  5., 10., 12.,  0.,  0.],\n",
              "       [ 0.,  0.,  6., 13., 10.,  0.,  0.,  0.]])"
            ]
          },
          "metadata": {},
          "execution_count": 13
        }
      ],
      "source": [
        "digits_dict[\"images\"][0]"
      ]
    },
    {
      "cell_type": "markdown",
      "metadata": {
        "id": "tq38673s2ypE"
      },
      "source": [
        "Visualiza imágenes de los dígitos utilizando la llave `images` de `digits_dict`. \n",
        "\n",
        "> **Sugerencia**: Utiliza `plt.subplots` y el método `imshow`. Puedes hacer una grilla de varias imágenes al mismo tiempo!"
      ]
    },
    {
      "cell_type": "code",
      "execution_count": 14,
      "metadata": {
        "id": "5sC9xQHG2ypF",
        "outputId": "4318e271-fd9b-4a2b-c27f-570d7d539002",
        "colab": {
          "base_uri": "https://localhost:8080/",
          "height": 703
        }
      },
      "outputs": [
        {
          "output_type": "display_data",
          "data": {
            "text/plain": [
              "<Figure size 864x864 with 25 Axes>"
            ],
            "image/png": "[encoded data removed]"
          },
          "metadata": {
            "needs_background": "light"
          }
        }
      ],
      "source": [
        "nx, ny = 5, 5\n",
        "fig, axs = plt.subplots(nx, ny, figsize=(12, 12))\n",
        "for i in range(1,26):\n",
        "    plt.subplot(5,5,i)\n",
        "    plt.imshow(digits_dict[\"images\"][i])\n"
      ]
    },
    {
      "cell_type": "markdown",
      "metadata": {
        "id": "R_3Z2l7k2ypF"
      },
      "source": [
        "### Ejercicio 3\n",
        "\n",
        "**Machine Learning**: En esta parte usted debe entrenar los distintos modelos escogidos desde la librería de `skelearn`. Para cada modelo, debe realizar los siguientes pasos:\n",
        "\n",
        "* **train-test** \n",
        " * Crear conjunto de entrenamiento y testeo (usted determine las proporciones adecuadas).\n",
        " * Imprimir por pantalla el largo del conjunto de entrenamiento y de testeo.\n",
        " \n",
        " \n",
        "* **modelo**:\n",
        " * Instanciar el modelo objetivo desde la librería sklearn.\n",
        " * *Hiper-parámetros*: Utiliza `sklearn.model_selection.GridSearchCV` para obtener la mejor estimación de los parámetros del modelo objetivo.\n",
        "\n",
        "\n",
        "\n",
        "\n",
        "* **Métricas**:\n",
        " * Graficar matriz de confusión.\n",
        " * Analizar métricas de error.\n",
        "\n",
        "\n",
        "\n",
        "__Preguntas a responder:__\n",
        "\n",
        "* ¿Cuál modelo es mejor basado en sus métricas?\n",
        "* ¿Cuál modelo demora menos tiempo en ajustarse?\n",
        "* ¿Qué modelo escoges?\n"
      ]
    },
    {
      "cell_type": "code",
      "execution_count": 15,
      "metadata": {
        "id": "-tZziiTr2ypI"
      },
      "outputs": [],
      "source": [
        "X = digits.drop(columns=\"target\").values\n",
        "y = digits[\"target\"].values"
      ]
    },
    {
      "cell_type": "markdown",
      "source": [
        "#### **1. Train-Test**"
      ],
      "metadata": {
        "id": "7Pvz1tu55gEQ"
      }
    },
    {
      "cell_type": "code",
      "source": [
        "\n",
        "X_train, X_test, y_train, y_test = train_test_split(X, y, test_size=0.2, random_state=42)\n",
        "\n",
        "print(\"Largo Train: \", X_train.shape)\n",
        "print(\"Largo Test: \", X_test.shape)"
      ],
      "metadata": {
        "id": "dj2TKix45jnL",
        "outputId": "fcb07c03-179c-4f54-f426-b3b4776fffc6",
        "colab": {
          "base_uri": "https://localhost:8080/"
        }
      },
      "execution_count": 16,
      "outputs": [
        {
          "output_type": "stream",
          "name": "stdout",
          "text": [
            "Largo Train:  (1437, 64)\n",
            "Largo Test:  (360, 64)\n"
          ]
        }
      ]
    },
    {
      "cell_type": "markdown",
      "source": [
        "#### **2. Modelos y métricas**"
      ],
      "metadata": {
        "id": "E2XLQGPh5zOp"
      }
    },
    {
      "cell_type": "markdown",
      "source": [
        "**KNN**"
      ],
      "metadata": {
        "id": "padqWrv75-WA"
      }
    },
    {
      "cell_type": "code",
      "source": [
        "\n",
        "parameters = {'n_neighbors':[1, 10]}\n",
        "knn = KNeighborsClassifier()\n",
        "gs = GridSearchCV(knn, parameters)\n",
        "gs.fit(X_train, y_train)\n",
        "print(\"Best: %f con %s\" % (gs.best_score_, gs.best_params_))"
      ],
      "metadata": {
        "id": "bGkhT5SN52GT",
        "outputId": "ccd2c3be-6297-4cda-ed60-65ffa2f437a5",
        "colab": {
          "base_uri": "https://localhost:8080/"
        }
      },
      "execution_count": 17,
      "outputs": [
        {
          "output_type": "stream",
          "name": "stdout",
          "text": [
            "Best: 0.986082 con {'n_neighbors': 1}\n"
          ]
        }
      ]
    },
    {
      "cell_type": "code",
      "source": [
        "\n",
        "#Entrenar modelo\n",
        "clfknn = KNeighborsClassifier(n_neighbors=1)\n",
        "clfknn.fit(X_train, y_train)\n",
        "%timeit clfknn.fit(X_train, y_train)\n",
        "#Predicción\n",
        "y_pred= clfknn.predict(X_test)\n",
        "\n",
        "df_knn = pd.DataFrame({\n",
        "    'y': y_test,   \n",
        "    'yhat': y_pred\n",
        "})\n",
        "\n",
        "confusion_matrix(y_test, y_pred)"
      ],
      "metadata": {
        "id": "G5Th1WSF6B6p",
        "outputId": "6c18112b-b18b-4d6c-95d4-618ede1bb369",
        "colab": {
          "base_uri": "https://localhost:8080/"
        }
      },
      "execution_count": 18,
      "outputs": [
        {
          "output_type": "stream",
          "name": "stdout",
          "text": [
            "258 µs ± 10.7 µs per loop (mean ± std. dev. of 7 runs, 1000 loops each)\n"
          ]
        },
        {
          "output_type": "execute_result",
          "data": {
            "text/plain": [
              "array([[33,  0,  0,  0,  0,  0,  0,  0,  0,  0],\n",
              "       [ 0, 28,  0,  0,  0,  0,  0,  0,  0,  0],\n",
              "       [ 0,  0, 33,  0,  0,  0,  0,  0,  0,  0],\n",
              "       [ 0,  0,  0, 34,  0,  0,  0,  0,  0,  0],\n",
              "       [ 0,  1,  0,  0, 45,  0,  0,  0,  0,  0],\n",
              "       [ 0,  0,  0,  0,  0, 46,  1,  0,  0,  0],\n",
              "       [ 0,  0,  0,  0,  0,  0, 35,  0,  0,  0],\n",
              "       [ 0,  0,  0,  0,  0,  0,  0, 33,  0,  1],\n",
              "       [ 0,  1,  0,  0,  0,  0,  0,  0, 28,  1],\n",
              "       [ 0,  0,  0,  1,  1,  1,  0,  0,  0, 37]])"
            ]
          },
          "metadata": {},
          "execution_count": 18
        }
      ]
    },
    {
      "cell_type": "code",
      "source": [
        "#Métricas\n",
        "target_names = ['numero '+ str(i) for i in range(0,10)]\n",
        "print(classification_report(y_test, y_pred, target_names=target_names, digits=5))\n"
      ],
      "metadata": {
        "id": "LXofCjgH6GhA",
        "outputId": "3e573ef7-d674-4be6-9c13-5488c1e01e54",
        "colab": {
          "base_uri": "https://localhost:8080/"
        }
      },
      "execution_count": 19,
      "outputs": [
        {
          "output_type": "stream",
          "name": "stdout",
          "text": [
            "              precision    recall  f1-score   support\n",
            "\n",
            "    numero 0    1.00000   1.00000   1.00000        33\n",
            "    numero 1    0.93333   1.00000   0.96552        28\n",
            "    numero 2    1.00000   1.00000   1.00000        33\n",
            "    numero 3    0.97143   1.00000   0.98551        34\n",
            "    numero 4    0.97826   0.97826   0.97826        46\n",
            "    numero 5    0.97872   0.97872   0.97872        47\n",
            "    numero 6    0.97222   1.00000   0.98592        35\n",
            "    numero 7    1.00000   0.97059   0.98507        34\n",
            "    numero 8    1.00000   0.93333   0.96552        30\n",
            "    numero 9    0.94872   0.92500   0.93671        40\n",
            "\n",
            "    accuracy                        0.97778       360\n",
            "   macro avg    0.97827   0.97859   0.97812       360\n",
            "weighted avg    0.97816   0.97778   0.97771       360\n",
            "\n"
          ]
        }
      ]
    },
    {
      "cell_type": "markdown",
      "source": [
        "**SVM**"
      ],
      "metadata": {
        "id": "omwyXgwo6mT-"
      }
    },
    {
      "cell_type": "code",
      "source": [
        "\n",
        "from sklearn.svm import SVC\n",
        "parameters = {'kernel':('linear', 'rbf'), 'C':range(10)}\n",
        "sv = svm.SVC()\n",
        "gs = GridSearchCV(sv, parameters)\n",
        "gs.fit(X_train, y_train)\n",
        "print(\"Best: %f con %s\" % (gs.best_score_, gs.best_params_))\n"
      ],
      "metadata": {
        "id": "6SCokEyJ6rkJ",
        "outputId": "6cadd849-0a4d-4453-e72c-eb5d33fd17b5",
        "colab": {
          "base_uri": "https://localhost:8080/"
        }
      },
      "execution_count": 20,
      "outputs": [
        {
          "output_type": "stream",
          "name": "stdout",
          "text": [
            "Best: 0.991655 con {'C': 7, 'kernel': 'rbf'}\n"
          ]
        }
      ]
    },
    {
      "cell_type": "code",
      "source": [
        "from sklearn.svm import SVC\n",
        "\n",
        "#Entrenar modelo\n",
        "clfsvm = SVC(kernel= 'rbf', C=9)\n",
        "%timeit clfsvm.fit(X_train, y_train)\n",
        "\n",
        "#Predicción\n",
        "y_pred= clfsvm.predict(X_test)\n",
        "df_svm = pd.DataFrame({\n",
        "    'y': y_test,   \n",
        "    'yhat': y_pred\n",
        "})\n",
        "\n",
        "confusion_matrix(y_test, y_pred)"
      ],
      "metadata": {
        "id": "H2Fysgq26tag",
        "outputId": "962d5fea-e907-488c-bf69-6e2ac8d696b3",
        "colab": {
          "base_uri": "https://localhost:8080/"
        }
      },
      "execution_count": 21,
      "outputs": [
        {
          "output_type": "stream",
          "name": "stdout",
          "text": [
            "49.9 ms ± 1.01 ms per loop (mean ± std. dev. of 7 runs, 10 loops each)\n"
          ]
        },
        {
          "output_type": "execute_result",
          "data": {
            "text/plain": [
              "array([[33,  0,  0,  0,  0,  0,  0,  0,  0,  0],\n",
              "       [ 0, 28,  0,  0,  0,  0,  0,  0,  0,  0],\n",
              "       [ 0,  0, 33,  0,  0,  0,  0,  0,  0,  0],\n",
              "       [ 0,  0,  0, 33,  0,  1,  0,  0,  0,  0],\n",
              "       [ 0,  0,  0,  0, 46,  0,  0,  0,  0,  0],\n",
              "       [ 0,  0,  0,  0,  0, 46,  1,  0,  0,  0],\n",
              "       [ 0,  0,  0,  0,  0,  0, 35,  0,  0,  0],\n",
              "       [ 0,  0,  0,  0,  0,  0,  0, 33,  0,  1],\n",
              "       [ 0,  0,  0,  0,  0,  1,  0,  0, 29,  0],\n",
              "       [ 0,  0,  0,  0,  0,  0,  0,  1,  0, 39]])"
            ]
          },
          "metadata": {},
          "execution_count": 21
        }
      ]
    },
    {
      "cell_type": "code",
      "source": [
        "#Métricas\n",
        "target_names = ['numero '+ str(i) for i in range(0,10)]\n",
        "print(classification_report(y_test, y_pred, target_names=target_names, digits=5))"
      ],
      "metadata": {
        "id": "4oJjE7986xX4",
        "outputId": "0f115ac4-fff7-4ce1-cebc-437c6db6559a",
        "colab": {
          "base_uri": "https://localhost:8080/"
        }
      },
      "execution_count": 22,
      "outputs": [
        {
          "output_type": "stream",
          "name": "stdout",
          "text": [
            "              precision    recall  f1-score   support\n",
            "\n",
            "    numero 0    1.00000   1.00000   1.00000        33\n",
            "    numero 1    1.00000   1.00000   1.00000        28\n",
            "    numero 2    1.00000   1.00000   1.00000        33\n",
            "    numero 3    1.00000   0.97059   0.98507        34\n",
            "    numero 4    1.00000   1.00000   1.00000        46\n",
            "    numero 5    0.95833   0.97872   0.96842        47\n",
            "    numero 6    0.97222   1.00000   0.98592        35\n",
            "    numero 7    0.97059   0.97059   0.97059        34\n",
            "    numero 8    1.00000   0.96667   0.98305        30\n",
            "    numero 9    0.97500   0.97500   0.97500        40\n",
            "\n",
            "    accuracy                        0.98611       360\n",
            "   macro avg    0.98761   0.98616   0.98681       360\n",
            "weighted avg    0.98630   0.98611   0.98613       360\n",
            "\n"
          ]
        }
      ]
    },
    {
      "cell_type": "markdown",
      "source": [
        "**Regresión logistica**"
      ],
      "metadata": {
        "id": "tjPcInqz6z8H"
      }
    },
    {
      "cell_type": "code",
      "source": [
        "parameters = {'penalty': ['l1', 'l2', 'elasticnet'], 'C':[1, 10]}\n",
        "reg = LogisticRegression()\n",
        "gs = GridSearchCV(reg, parameters)\n",
        "gs.fit(X_train, y_train)\n",
        "print(\"Best: %f con %s\" % (gs.best_score_, gs.best_params_))\n"
      ],
      "metadata": {
        "id": "mAGOfpwK66nR",
        "outputId": "f330c012-a048-4c35-f182-b8d2d70903b5",
        "colab": {
          "base_uri": "https://localhost:8080/"
        }
      },
      "execution_count": 23,
      "outputs": [
        {
          "output_type": "stream",
          "name": "stdout",
          "text": [
            "Best: 0.954063 con {'C': 1, 'penalty': 'l2'}\n"
          ]
        }
      ]
    },
    {
      "cell_type": "code",
      "source": [
        "\n",
        "#Entrenar modelo\n",
        "clflog = LogisticRegression(penalty='l2', C=10)\n",
        "clflog.fit(X_train, y_train)\n",
        "%timeit clflog.fit(X_train, y_train)\n",
        "#Predicción\n",
        "y_pred= clflog.predict(X_test)\n",
        "\n",
        "df_log = pd.DataFrame({\n",
        "    'y': y_test,   \n",
        "    'yhat': y_pred\n",
        "})\n",
        "\n",
        "\n",
        "confusion_matrix(y_test, y_pred)"
      ],
      "metadata": {
        "id": "fUwLliiJ68UJ",
        "outputId": "f72aa1b4-f1d3-4c42-ecc1-4606f79216d4",
        "colab": {
          "base_uri": "https://localhost:8080/"
        }
      },
      "execution_count": 24,
      "outputs": [
        {
          "output_type": "stream",
          "name": "stdout",
          "text": [
            "323 ms ± 20 ms per loop (mean ± std. dev. of 7 runs, 1 loop each)\n"
          ]
        },
        {
          "output_type": "execute_result",
          "data": {
            "text/plain": [
              "array([[33,  0,  0,  0,  0,  0,  0,  0,  0,  0],\n",
              "       [ 0, 28,  0,  0,  0,  0,  0,  0,  0,  0],\n",
              "       [ 0,  0, 33,  0,  0,  0,  0,  0,  0,  0],\n",
              "       [ 0,  0,  0, 33,  0,  1,  0,  0,  0,  0],\n",
              "       [ 0,  1,  0,  0, 44,  0,  1,  0,  0,  0],\n",
              "       [ 0,  0,  1,  0,  0, 44,  1,  0,  0,  1],\n",
              "       [ 0,  0,  0,  0,  0,  1, 34,  0,  0,  0],\n",
              "       [ 0,  0,  0,  0,  0,  1,  0, 33,  0,  0],\n",
              "       [ 0,  0,  0,  0,  0,  1,  0,  0, 29,  0],\n",
              "       [ 0,  0,  0,  2,  0,  0,  0,  0,  1, 37]])"
            ]
          },
          "metadata": {},
          "execution_count": 24
        }
      ]
    },
    {
      "cell_type": "code",
      "source": [
        "#Métricas\n",
        "target_names = ['numero '+ str(i) for i in range(0,10)]\n",
        "print(classification_report(y_test, y_pred, target_names=target_names, digits=5))\n"
      ],
      "metadata": {
        "id": "Yr-lwtCb6-JU",
        "outputId": "d3a55e93-0c7b-4cd9-9390-72d6b83a9e77",
        "colab": {
          "base_uri": "https://localhost:8080/"
        }
      },
      "execution_count": 25,
      "outputs": [
        {
          "output_type": "stream",
          "name": "stdout",
          "text": [
            "              precision    recall  f1-score   support\n",
            "\n",
            "    numero 0    1.00000   1.00000   1.00000        33\n",
            "    numero 1    0.96552   1.00000   0.98246        28\n",
            "    numero 2    0.97059   1.00000   0.98507        33\n",
            "    numero 3    0.94286   0.97059   0.95652        34\n",
            "    numero 4    1.00000   0.95652   0.97778        46\n",
            "    numero 5    0.91667   0.93617   0.92632        47\n",
            "    numero 6    0.94444   0.97143   0.95775        35\n",
            "    numero 7    1.00000   0.97059   0.98507        34\n",
            "    numero 8    0.96667   0.96667   0.96667        30\n",
            "    numero 9    0.97368   0.92500   0.94872        40\n",
            "\n",
            "    accuracy                        0.96667       360\n",
            "   macro avg    0.96804   0.96970   0.96864       360\n",
            "weighted avg    0.96724   0.96667   0.96671       360\n",
            "\n"
          ]
        }
      ]
    },
    {
      "cell_type": "markdown",
      "source": [
        "**¿Cuál modelo es mejor basado en sus métricas?** \\\\\n",
        "**R:** El mejor modelo sería SVM \\\\\n",
        "**¿Cuál modelo demora menos tiempo en ajustarse?** \\\\\n",
        "**R:** El KNN con 0.258 ms \\\\\n",
        "**¿Qué modelo escoges?** \\\\\n",
        "**R:** escogeria el SVM por las metricas \\\\\n",
        "\n",
        "\n",
        "\n"
      ],
      "metadata": {
        "id": "t682A4ut7YVG"
      }
    },
    {
      "cell_type": "markdown",
      "metadata": {
        "id": "97lF6XBQ2ypK"
      },
      "source": [
        "### Ejercicio 4\n",
        "\n",
        "__Comprensión del modelo:__ Tomando en cuenta el mejor modelo entontrado en el `Ejercicio 3`, debe comprender e interpretar minuciosamente los resultados y gráficos asocados al modelo en estudio, para ello debe resolver los siguientes puntos:\n",
        "\n",
        "\n",
        "\n",
        " * **Cross validation**: usando **cv** (con n_fold = 10), sacar una especie de \"intervalo de confianza\" sobre alguna de las métricas estudiadas en clases: \n",
        "  * $\\mu \\pm \\sigma$ = promedio $\\pm$ desviación estandar\n",
        " * **Curva de Validación**: Replica el ejemplo del siguiente [link](https://scikit-learn.org/stable/auto_examples/model_selection/plot_validation_curve.html#sphx-glr-auto-examples-model-selection-plot-validation-curve-py) pero con el modelo, parámetros y métrica adecuada. Saque conclusiones del gráfico.\n",
        " * **Curva AUC–ROC**: Replica el ejemplo del siguiente  [link](https://scikit-learn.org/stable/auto_examples/model_selection/plot_roc.html#sphx-glr-auto-examples-model-selection-plot-roc-py) pero con el modelo, parámetros y métrica adecuada. Saque conclusiones del gráfico."
      ]
    },
    {
      "cell_type": "code",
      "execution_count": 26,
      "metadata": {
        "id": "d1eeMwZb2ypM",
        "outputId": "1a0c6449-78d7-4ca8-935c-6bc6cd8bc1cc",
        "colab": {
          "base_uri": "https://localhost:8080/"
        }
      },
      "outputs": [
        {
          "output_type": "stream",
          "name": "stdout",
          "text": [
            "Accuracy: 0.98 (+/- 0.03)\n"
          ]
        }
      ],
      "source": [
        "\n",
        "from sklearn.model_selection import cross_val_score\n",
        "svm_best = svm.SVC(kernel='rbf', C=10)\n",
        "scores = cross_val_score(svm_best, X, y, cv=10)\n",
        "print(\"Accuracy: %0.2f (+/- %0.2f)\" % (scores.mean(), scores.std() * 2))"
      ]
    },
    {
      "cell_type": "code",
      "source": [
        "from sklearn.model_selection import validation_curve\n",
        "\n",
        "param_range = np.array([i for i in range(1,10)])\n",
        "\n",
        "\n",
        "train_scores, test_scores = validation_curve(\n",
        "    KNeighborsClassifier(algorithm = 'auto', metric = 'euclidean', weights = 'distance'), #\n",
        "    X_train,\n",
        "    y_train,\n",
        "    param_name=\"n_neighbors\",\n",
        "    param_range=param_range,\n",
        "    scoring=\"accuracy\",\n",
        "    n_jobs=1\n",
        ")\n",
        "parameters = {'kernel':['rbf'], 'C': np.arange(1,10)}\n",
        "svm = SVC()\n",
        "gs = GridSearchCV(svm, parameters,return_train_score=True)\n",
        "gs.fit(X_train,y_train)\n",
        "C_values= np.arange(1,10)\n",
        "test_accuracy = []\n",
        "for C_val in C_values:\n",
        "    svm = SVC(kernel='rbf', C=C_val)\n",
        "    svm.fit(X_train,y_train)\n",
        "    test_accuracy.append(svm.score(X_test,y_test))\n",
        "\n",
        "train_scores_mean = np.mean(train_scores, axis=1)\n",
        "train_scores_std = np.std(train_scores, axis=1)\n",
        "test_scores_mean = np.mean(test_scores, axis=1)\n",
        "test_scores_std = np.std(test_scores, axis=1)\n",
        "\n",
        "plt.title(\"Curva de Validación para KNN\")\n",
        "plt.xlabel(\"n_neighbors\")\n",
        "plt.ylabel(\"Score\")\n",
        "\n",
        "plt.ylim(0.95, 1.05)\n",
        "lw = 2\n",
        "plt.semilogx(param_range, train_scores_mean, label=\"Training score\",\n",
        "             color=\"darkorange\", lw=lw)\n",
        "plt.fill_between(param_range, train_scores_mean - train_scores_std,\n",
        "                 train_scores_mean + train_scores_std, alpha=0.2,\n",
        "                 color=\"darkorange\", lw=lw)\n",
        "plt.semilogx(param_range, test_scores_mean, label=\"Cross-validation score\",\n",
        "             color=\"navy\", lw=lw)\n",
        "plt.fill_between(param_range, test_scores_mean - test_scores_std,\n",
        "                 test_scores_mean + test_scores_std, alpha=0.2,\n",
        "                 color=\"navy\", lw=lw)\n",
        "plt.legend(loc=\"best\")\n",
        "\n",
        "plt.show()"
      ],
      "metadata": {
        "id": "qc3OYOElZTJw",
        "outputId": "2cdb8bbf-e21e-4ef1-f0ae-6eb28742b336",
        "colab": {
          "base_uri": "https://localhost:8080/",
          "height": 307
        }
      },
      "execution_count": 70,
      "outputs": [
        {
          "output_type": "display_data",
          "data": {
            "text/plain": [
              "<Figure size 432x288 with 1 Axes>"
            ],
            "image/png": "[encoded data removed]"
          },
          "metadata": {
            "needs_background": "light"
          }
        }
      ]
    },
    {
      "cell_type": "code",
      "source": [
        "\n",
        "from sklearn.preprocessing import label_binarize\n",
        "from sklearn.metrics import roc_curve, auc\n",
        "from scipy import interp\n",
        "from sklearn.metrics import roc_auc_score\n",
        "from sklearn.multiclass import OneVsRestClassifier\n",
        "from itertools import cycle\n",
        "\n",
        "y = label_binarize(y, classes=digits[\"target\"].unique())\n",
        "n_classes = y.shape[1]\n",
        "\n",
        "n_samples, n_features = X.shape\n",
        "\n",
        "X_train, X_test, y_train, y_test = train_test_split(X, y,\n",
        "                                                    test_size=0.2,\n",
        "                                                    train_size = 0.8,\n",
        "                                                    random_state=1998)\n",
        "\n",
        "classifier = OneVsRestClassifier(KNeighborsClassifier(algorithm = 'auto', metric = 'euclidean', weights = 'distance'))\n",
        "y_score = classifier.fit(X_train, y_train).predict(X_test)\n",
        "\n",
        "fpr = dict()\n",
        "tpr = dict()\n",
        "roc_auc = dict()\n",
        "for i in range(n_classes):\n",
        "    fpr[i], tpr[i], _ = roc_curve(y_test[:, i], y_score[:, i])\n",
        "    roc_auc[i] = auc(fpr[i], tpr[i])\n",
        "\n",
        "fpr[\"micro\"], tpr[\"micro\"], _ = roc_curve(y_test.ravel(), y_score.ravel())\n",
        "roc_auc[\"micro\"] = auc(fpr[\"micro\"], tpr[\"micro\"])\n"
      ],
      "metadata": {
        "id": "EBJq6fsJtpw9"
      },
      "execution_count": 72,
      "outputs": []
    },
    {
      "cell_type": "code",
      "source": [
        "\n",
        "all_fpr = np.unique(np.concatenate([fpr[i] for i in range(n_classes)]))\n",
        "\n",
        "\n",
        "mean_tpr = np.zeros_like(all_fpr)\n",
        "for i in range(n_classes):\n",
        "    mean_tpr += np.interp(all_fpr, fpr[i], tpr[i])\n",
        "\n",
        "\n",
        "mean_tpr /= n_classes\n",
        "\n",
        "fpr[\"macro\"] = all_fpr\n",
        "tpr[\"macro\"] = mean_tpr\n",
        "roc_auc[\"macro\"] = auc(fpr[\"macro\"], tpr[\"macro\"])\n",
        "\n",
        "plt.figure(figsize=(12,12))\n",
        "plt.plot(fpr[\"micro\"], tpr[\"micro\"],\n",
        "         label='micro-average ROC curve (area = {0:0.2f})'\n",
        "               ''.format(roc_auc[\"micro\"]),\n",
        "         color='deeppink', linestyle=':', linewidth=4)\n",
        "\n",
        "plt.plot(fpr[\"macro\"], tpr[\"macro\"],\n",
        "         label='macro-average ROC curve (area = {0:0.2f})'\n",
        "               ''.format(roc_auc[\"macro\"]),\n",
        "         color='navy', linestyle=':', linewidth=4)\n",
        "\n",
        "colors = cycle(['aqua', 'darkorange', 'cornflowerblue'])\n",
        "for i, color in zip(range(n_classes), colors):\n",
        "    plt.plot(fpr[i], tpr[i], color=color, lw=lw,\n",
        "             label='ROC curve of class {0} (area = {1:0.2f})'\n",
        "             ''.format(i, roc_auc[i]))\n",
        "\n",
        "plt.plot([0, 1], [0, 1], 'k--', lw=lw)\n",
        "plt.xlim([0.0, 1.0])\n",
        "plt.ylim([0.0, 1.05])\n",
        "plt.xlabel('False Positive Rate')\n",
        "plt.ylabel('True Positive Rate')\n",
        "plt.title('Some extension of Receiver operating characteristic to multi-class')\n",
        "plt.legend(loc=\"lower right\")\n",
        "plt.show()\n"
      ],
      "metadata": {
        "id": "WDdM5OG9Zmu7",
        "outputId": "54bcb408-3162-49f0-d204-daab9369d7ea",
        "colab": {
          "base_uri": "https://localhost:8080/",
          "height": 736
        }
      },
      "execution_count": 73,
      "outputs": [
        {
          "output_type": "display_data",
          "data": {
            "text/plain": [
              "<Figure size 864x864 with 1 Axes>"
            ],
            "image/png": "[encoded data removed]"
          },
          "metadata": {
            "needs_background": "light"
          }
        }
      ]
    },
    {
      "cell_type": "markdown",
      "source": [
        "Del gráfico 1 podemos ver que la linea de training score es igual a 1 ya que el modelo guarda  todo el train set y luego al ocuparlo para predecir como ya entreno con este ya tiene su cluster\n",
        "Del gráfico 2 se puede ver que casi todas las clases son perfectas."
      ],
      "metadata": {
        "id": "q7Tdg16R3trO"
      }
    },
    {
      "cell_type": "markdown",
      "metadata": {
        "id": "XNiEMjbN2ypM"
      },
      "source": [
        "### Ejercicio 5\n",
        "__Reducción de la dimensión:__ Tomando en cuenta el mejor modelo encontrado en el `Ejercicio 3`, debe realizar una redcción de dimensionalidad del conjunto de datos. Para ello debe abordar el problema ocupando los dos criterios visto en clases:  \n",
        "\n",
        "* **Selección de atributos**\n",
        "* **Extracción de atributos**\n",
        "\n",
        "__Preguntas a responder:__\n",
        "\n",
        "Una vez realizado la reducción de dimensionalidad, debe sacar algunas estadísticas y gráficas comparativas entre el conjunto de datos original y el nuevo conjunto de datos (tamaño del dataset, tiempo de ejecución del modelo, etc.)\n"
      ]
    },
    {
      "cell_type": "markdown",
      "source": [
        "**Selección de atributos**\n"
      ],
      "metadata": {
        "id": "0Mtv0X5rgQNj"
      }
    },
    {
      "cell_type": "code",
      "execution_count": 74,
      "metadata": {
        "id": "7Kjsnirf2ypN",
        "outputId": "d48b7d24-05a7-4f14-c5c2-61cf5d25e461",
        "colab": {
          "base_uri": "https://localhost:8080/"
        }
      },
      "outputs": [
        {
          "output_type": "stream",
          "name": "stdout",
          "text": [
            "[0]\n",
            "[0]\n",
            "[0]\n"
          ]
        }
      ],
      "source": [
        "print(digits[\"c00\"].unique())\n",
        "print(digits[\"c32\"].unique())\n",
        "print(digits[\"c39\"].unique())"
      ]
    },
    {
      "cell_type": "code",
      "source": [
        "from sklearn.feature_selection import SelectKBest\n",
        "from sklearn.feature_selection import f_classif\n",
        "\n",
        "\n",
        "x_training = digits.drop(['c00','c32','c39','target'], axis=1) #Se dropean las columnas constantes \n",
        "y_training = digits['target']\n",
        "\n",
        "k = 20  \n",
        "columnas = list(x_training.columns.values)\n",
        "seleccionadas = SelectKBest(f_classif, k=k).fit(x_training, y_training)\n"
      ],
      "metadata": {
        "id": "i1-otJfSgpRs"
      },
      "execution_count": 75,
      "outputs": []
    },
    {
      "cell_type": "code",
      "source": [
        "catrib = seleccionadas.get_support()\n",
        "atributos = [columnas[i] for i in list(catrib.nonzero()[0])]\n",
        "digits_atributos = digits[atributos + [\"target\"]]\n",
        "print(\"Las columnas seleccionadas por la prueba F son:\\n\",atributos)\n"
      ],
      "metadata": {
        "id": "LG3m_S-Ogrr1",
        "outputId": "50f037dc-f25e-4d23-f9d3-565c1944d4ba",
        "colab": {
          "base_uri": "https://localhost:8080/"
        }
      },
      "execution_count": 76,
      "outputs": [
        {
          "output_type": "stream",
          "name": "stdout",
          "text": [
            "Las columnas seleccionadas por la prueba F son:\n",
            " ['c02', 'c10', 'c13', 'c20', 'c21', 'c26', 'c28', 'c30', 'c33', 'c34', 'c36', 'c38', 'c42', 'c43', 'c44', 'c46', 'c54', 'c58', 'c60', 'c61']\n"
          ]
        }
      ]
    },
    {
      "cell_type": "code",
      "source": [
        "dfs_size = [digits.size,digits_atributos.size]\n",
        "print(\"digits Original tenía\", dfs_size[0], \"elementos\")\n",
        "print(\"digits_atributos tiene\", dfs_size[1], \"elementos\")"
      ],
      "metadata": {
        "id": "0oxpfFOjguro",
        "outputId": "e0ea7b4f-7352-4e1d-b0c5-0af0dfa23b7b",
        "colab": {
          "base_uri": "https://localhost:8080/"
        }
      },
      "execution_count": 77,
      "outputs": [
        {
          "output_type": "stream",
          "name": "stdout",
          "text": [
            "digits Original tenía 116805 elementos\n",
            "digits_atributos tiene 37737 elementos\n"
          ]
        }
      ]
    },
    {
      "cell_type": "code",
      "source": [
        "fig = plt.figure(figsize=(10,5))\n",
        "plt.bar(x =[\"digits Original\", \"digits_atributos\"], height = dfs_size, color = \"Blue\" )\n",
        "plt.title(\"Comparativa tamaño de los DataFrames\")\n",
        "plt.ylabel(\"Cantidad de Elementos\")\n",
        "plt.show()"
      ],
      "metadata": {
        "id": "PpN6EWKvgvUC",
        "outputId": "961895f9-025e-46cf-fbff-cb0bc8e4b5b4",
        "colab": {
          "base_uri": "https://localhost:8080/",
          "height": 339
        }
      },
      "execution_count": 79,
      "outputs": [
        {
          "output_type": "display_data",
          "data": {
            "text/plain": [
              "<Figure size 720x360 with 1 Axes>"
            ],
            "image/png": "[encoded data removed]"
          },
          "metadata": {
            "needs_background": "light"
          }
        }
      ]
    },
    {
      "cell_type": "code",
      "source": [
        "total2 = 0\n",
        "memoria = digits_atributos.memory_usage() \n",
        "for i in range(0,len(memoria)):\n",
        "    total2 += memoria[i]\n",
        "print(\"El DataFrame digits_atributos usa un total de:\",total2, 'bytes') \n",
        "print('En comparación el DataFrame original usaba un total de:', total, 'bytes')\n"
      ],
      "metadata": {
        "id": "eo2KY64qgxmU",
        "outputId": "bbe43963-04bc-4e96-b64f-bd7bff63ba34",
        "colab": {
          "base_uri": "https://localhost:8080/"
        }
      },
      "execution_count": 80,
      "outputs": [
        {
          "output_type": "stream",
          "name": "stdout",
          "text": [
            "El DataFrame digits_atributos usa un total de: 302024 bytes\n",
            "En comparación el DataFrame original usaba un total de: 934568 bytes\n"
          ]
        }
      ]
    },
    {
      "cell_type": "code",
      "source": [
        "lista = [1e5 * i for i in range(6)]\n",
        "fig = plt.figure(figsize=(10,5))\n",
        "plt.bar(x = [\"digits Original\", \"digits_atributos\"], height = [total,total2],color = \"red\")\n",
        "plt.yticks(lista)\n",
        "plt.title(\"Comparativa de memoria utilizada\")\n",
        "plt.ylabel(\"bytes\")\n",
        "plt.show()\n"
      ],
      "metadata": {
        "id": "l3LOPO6OgziM",
        "outputId": "fe607778-2b3f-4e2d-f7dc-fd5309b6316e",
        "colab": {
          "base_uri": "https://localhost:8080/",
          "height": 339
        }
      },
      "execution_count": 82,
      "outputs": [
        {
          "output_type": "display_data",
          "data": {
            "text/plain": [
              "<Figure size 720x360 with 1 Axes>"
            ],
            "image/png": "[encoded data removed]"
          },
          "metadata": {
            "needs_background": "light"
          }
        }
      ]
    },
    {
      "cell_type": "code",
      "source": [
        "X = digits.drop(\"target\",axis = 1)\n",
        "y = digits[\"target\"]\n",
        "X_train, X_test, y_train, y_test = train_test_split(X, y, test_size=0.20, \n",
        "                                                    train_size=0.80,\n",
        "                                                    random_state=1998)\n",
        "start_time = time.time()\n",
        "clfsvm.fit(X_train, y_train)\n",
        "\n",
        "time_original = time.time() - start_time\n",
        "print(\" El modelo se ejecutó en %s segundos con el DataFrame Original\" % (time_original)) \n"
      ],
      "metadata": {
        "id": "HWCjhc_Fg2m7",
        "outputId": "6cb18fce-ab51-48fd-cd02-54be0f12db8f",
        "colab": {
          "base_uri": "https://localhost:8080/"
        }
      },
      "execution_count": 83,
      "outputs": [
        {
          "output_type": "stream",
          "name": "stdout",
          "text": [
            " El modelo se ejecutó en 0.07319116592407227 segundos con el DataFrame Original\n"
          ]
        }
      ]
    },
    {
      "cell_type": "code",
      "source": [
        "X = digits_atributos.drop(\"target\",axis=1)\n",
        "y = digits[\"target\"]\n",
        "X_train, X_test, y_train, y_test = train_test_split(X, y, test_size=0.30, \n",
        "                                                    train_size=0.70,\n",
        "                                                    random_state=1998)\n",
        "start_time = time.time()\n",
        "clfsvm.fit(X_train, y_train)\n",
        "# Se presenta el tiempo en que se ejecutó el modelo \n",
        "time_atributos = time.time() - start_time\n",
        "print(\" El modelo se ejecutó en %s segundos con el DataFrame digits_atributos\" % (time_atributos)) "
      ],
      "metadata": {
        "id": "XFa3R4fGg5Ov",
        "outputId": "dad1dab9-6df4-4bbf-8f78-5a955d9dae0b",
        "colab": {
          "base_uri": "https://localhost:8080/"
        }
      },
      "execution_count": 84,
      "outputs": [
        {
          "output_type": "stream",
          "name": "stdout",
          "text": [
            " El modelo se ejecutó en 0.07780790328979492 segundos con el DataFrame digits_atributos\n"
          ]
        }
      ]
    },
    {
      "cell_type": "markdown",
      "source": [
        "**PCA**"
      ],
      "metadata": {
        "id": "lFX3nDelg7q_"
      }
    },
    {
      "cell_type": "code",
      "source": [
        "from sklearn.preprocessing import StandardScaler\n",
        "\n",
        "#Se estandarizan los datos \n",
        "x = digits.drop(\"target\",axis =1).values\n",
        "y = digits[\"target\"].values\n",
        "\n",
        "x = StandardScaler().fit_transform(x)\n"
      ],
      "metadata": {
        "id": "Yr6roIXChBtj"
      },
      "execution_count": 85,
      "outputs": []
    },
    {
      "cell_type": "code",
      "source": [
        "# Se ajusta el modelo \n",
        "from sklearn.decomposition import PCA\n",
        "n_components = 40\n",
        "pca = PCA(n_components=n_components)\n",
        "principalComponents = pca.fit_transform(x)\n",
        "\n",
        "percent_variance = np.round(pca.explained_variance_ratio_* 100, decimals =2)\n",
        "columns = [f\"PC{i}\" for i in range(1,n_components+1)]\n",
        "\n",
        "plt.figure(figsize=(17,6))\n",
        "plt.bar(x= range(1,n_components+1), height=percent_variance, tick_label=columns)\n",
        "plt.ylabel('Percentate of Variance Explained')\n",
        "plt.xlabel('Principal Component')\n",
        "plt.title('PCA Scree Plot')\n",
        "plt.show()\n"
      ],
      "metadata": {
        "id": "aC6WUMZShFfu",
        "outputId": "73d7d990-6228-4d71-aa11-416267427492",
        "colab": {
          "base_uri": "https://localhost:8080/",
          "height": 410
        }
      },
      "execution_count": 86,
      "outputs": [
        {
          "output_type": "display_data",
          "data": {
            "text/plain": [
              "<Figure size 1224x432 with 1 Axes>"
            ],
            "image/png": "[encoded data removed]"
          },
          "metadata": {
            "needs_background": "light"
          }
        }
      ]
    },
    {
      "cell_type": "code",
      "source": [
        "# graficar varianza por la suma acumulada de los componente\n",
        "percent_variance_cum = np.cumsum(percent_variance)\n",
        "columns_sum =[f\"PC1+...+PC{i+1}\" for i in range(2,n_components)]\n",
        "columns_sum = [\"PC1\", \"PC1+PC2\"] + columns_sum\n",
        "\n",
        "plt.figure(figsize=(17,6))\n",
        "plt.bar(x= range(1,n_components+1), height=percent_variance_cum, tick_label=columns_sum)\n",
        "plt.ylabel('Percentate of Variance Explained')\n",
        "plt.yticks([10*i for i in range(11)])\n",
        "plt.xlabel('Principal Component Cumsum')\n",
        "plt.xticks(rotation =45)\n",
        "plt.title('PCA Scree Plot')\n",
        "plt.show()\n"
      ],
      "metadata": {
        "id": "fKC2gEnQhHzK",
        "outputId": "099e1527-dc23-43a5-a5b4-4d25e4cf2831",
        "colab": {
          "base_uri": "https://localhost:8080/",
          "height": 462
        }
      },
      "execution_count": 87,
      "outputs": [
        {
          "output_type": "display_data",
          "data": {
            "text/plain": [
              "<Figure size 1224x432 with 1 Axes>"
            ],
            "image/png": "[encoded data removed]"
          },
          "metadata": {
            "needs_background": "light"
          }
        }
      ]
    },
    {
      "cell_type": "code",
      "source": [
        "principalDataframe = pd.DataFrame(data = principalComponents, columns = columns)\n",
        "targetDataframe = digits[['target']]\n",
        "\n",
        "digits_pca = pd.concat([principalDataframe, targetDataframe],axis = 1)\n",
        "digits_pca.head()"
      ],
      "metadata": {
        "id": "WJBlhfCbhLNx",
        "outputId": "70f79419-47c5-42b8-a645-1b9c227b19fb",
        "colab": {
          "base_uri": "https://localhost:8080/",
          "height": 279
        }
      },
      "execution_count": 88,
      "outputs": [
        {
          "output_type": "execute_result",
          "data": {
            "text/plain": [
              "        PC1       PC2       PC3       PC4       PC5       PC6       PC7  \\\n",
              "0  1.914214 -0.954502 -3.946035  2.028723 -0.267174  0.530323 -1.415320   \n",
              "1  0.588980  0.924636  3.924755 -1.779850 -0.993431 -0.675644  1.878561   \n",
              "2  1.302039 -0.317189  3.023333 -2.043377 -2.081153  0.935114 -1.296197   \n",
              "3 -3.020770 -0.868772 -0.801744 -2.187039 -0.556814  0.727129  0.959762   \n",
              "4  4.528949 -1.093480  0.973120 -1.419509 -1.715109  1.431609  1.073641   \n",
              "\n",
              "        PC8       PC9      PC10  ...      PC32      PC33      PC34      PC35  \\\n",
              "0  1.496065  0.124903 -0.822255  ... -0.013903  0.053185  0.019752  0.124098   \n",
              "1  0.556334  1.079905  0.087479  ... -1.144140  0.039169  0.367331 -0.687152   \n",
              "2  1.156164  0.785565 -1.099240  ...  0.498164 -1.351402 -0.100189  0.183973   \n",
              "3 -1.382638  0.259091  0.744572  ...  0.873526  0.121079 -0.477787 -0.172452   \n",
              "4 -0.968251 -1.660156  1.174662  ... -0.371822  0.266914  0.487109 -0.315214   \n",
              "\n",
              "       PC36      PC37      PC38      PC39      PC40  target  \n",
              "0  0.716815  0.077751  0.843779  0.015055  0.316646       0  \n",
              "1 -0.000168 -0.268753  0.209867  0.099926 -0.485145       1  \n",
              "2 -0.079078  0.434257 -0.208699 -1.276273  0.485266       2  \n",
              "3  0.240549  0.374473  0.209832  0.794543 -0.014500       3  \n",
              "4 -0.585469 -0.216895 -0.237105 -0.123077  0.265478       4  \n",
              "\n",
              "[5 rows x 41 columns]"
            ],
            "text/html": [
              "\n",
              "  <div id=\"df-703abadb-d1e2-4e72-a07d-c27c45231c39\">\n",
              "    <div class=\"colab-df-container\">\n",
              "      <div>\n",
              "<style scoped>\n",
              "    .dataframe tbody tr th:only-of-type {\n",
              "        vertical-align: middle;\n",
              "    }\n",
              "\n",
              "    .dataframe tbody tr th {\n",
              "        vertical-align: top;\n",
              "    }\n",
              "\n",
              "    .dataframe thead th {\n",
              "        text-align: right;\n",
              "    }\n",
              "</style>\n",
              "<table border=\"1\" class=\"dataframe\">\n",
              "  <thead>\n",
              "    <tr style=\"text-align: right;\">\n",
              "      <th></th>\n",
              "      <th>PC1</th>\n",
              "      <th>PC2</th>\n",
              "      <th>PC3</th>\n",
              "      <th>PC4</th>\n",
              "      <th>PC5</th>\n",
              "      <th>PC6</th>\n",
              "      <th>PC7</th>\n",
              "      <th>PC8</th>\n",
              "      <th>PC9</th>\n",
              "      <th>PC10</th>\n",
              "      <th>...</th>\n",
              "      <th>PC32</th>\n",
              "      <th>PC33</th>\n",
              "      <th>PC34</th>\n",
              "      <th>PC35</th>\n",
              "      <th>PC36</th>\n",
              "      <th>PC37</th>\n",
              "      <th>PC38</th>\n",
              "      <th>PC39</th>\n",
              "      <th>PC40</th>\n",
              "      <th>target</th>\n",
              "    </tr>\n",
              "  </thead>\n",
              "  <tbody>\n",
              "    <tr>\n",
              "      <th>0</th>\n",
              "      <td>1.914214</td>\n",
              "      <td>-0.954502</td>\n",
              "      <td>-3.946035</td>\n",
              "      <td>2.028723</td>\n",
              "      <td>-0.267174</td>\n",
              "      <td>0.530323</td>\n",
              "      <td>-1.415320</td>\n",
              "      <td>1.496065</td>\n",
              "      <td>0.124903</td>\n",
              "      <td>-0.822255</td>\n",
              "      <td>...</td>\n",
              "      <td>-0.013903</td>\n",
              "      <td>0.053185</td>\n",
              "      <td>0.019752</td>\n",
              "      <td>0.124098</td>\n",
              "      <td>0.716815</td>\n",
              "      <td>0.077751</td>\n",
              "      <td>0.843779</td>\n",
              "      <td>0.015055</td>\n",
              "      <td>0.316646</td>\n",
              "      <td>0</td>\n",
              "    </tr>\n",
              "    <tr>\n",
              "      <th>1</th>\n",
              "      <td>0.588980</td>\n",
              "      <td>0.924636</td>\n",
              "      <td>3.924755</td>\n",
              "      <td>-1.779850</td>\n",
              "      <td>-0.993431</td>\n",
              "      <td>-0.675644</td>\n",
              "      <td>1.878561</td>\n",
              "      <td>0.556334</td>\n",
              "      <td>1.079905</td>\n",
              "      <td>0.087479</td>\n",
              "      <td>...</td>\n",
              "      <td>-1.144140</td>\n",
              "      <td>0.039169</td>\n",
              "      <td>0.367331</td>\n",
              "      <td>-0.687152</td>\n",
              "      <td>-0.000168</td>\n",
              "      <td>-0.268753</td>\n",
              "      <td>0.209867</td>\n",
              "      <td>0.099926</td>\n",
              "      <td>-0.485145</td>\n",
              "      <td>1</td>\n",
              "    </tr>\n",
              "    <tr>\n",
              "      <th>2</th>\n",
              "      <td>1.302039</td>\n",
              "      <td>-0.317189</td>\n",
              "      <td>3.023333</td>\n",
              "      <td>-2.043377</td>\n",
              "      <td>-2.081153</td>\n",
              "      <td>0.935114</td>\n",
              "      <td>-1.296197</td>\n",
              "      <td>1.156164</td>\n",
              "      <td>0.785565</td>\n",
              "      <td>-1.099240</td>\n",
              "      <td>...</td>\n",
              "      <td>0.498164</td>\n",
              "      <td>-1.351402</td>\n",
              "      <td>-0.100189</td>\n",
              "      <td>0.183973</td>\n",
              "      <td>-0.079078</td>\n",
              "      <td>0.434257</td>\n",
              "      <td>-0.208699</td>\n",
              "      <td>-1.276273</td>\n",
              "      <td>0.485266</td>\n",
              "      <td>2</td>\n",
              "    </tr>\n",
              "    <tr>\n",
              "      <th>3</th>\n",
              "      <td>-3.020770</td>\n",
              "      <td>-0.868772</td>\n",
              "      <td>-0.801744</td>\n",
              "      <td>-2.187039</td>\n",
              "      <td>-0.556814</td>\n",
              "      <td>0.727129</td>\n",
              "      <td>0.959762</td>\n",
              "      <td>-1.382638</td>\n",
              "      <td>0.259091</td>\n",
              "      <td>0.744572</td>\n",
              "      <td>...</td>\n",
              "      <td>0.873526</td>\n",
              "      <td>0.121079</td>\n",
              "      <td>-0.477787</td>\n",
              "      <td>-0.172452</td>\n",
              "      <td>0.240549</td>\n",
              "      <td>0.374473</td>\n",
              "      <td>0.209832</td>\n",
              "      <td>0.794543</td>\n",
              "      <td>-0.014500</td>\n",
              "      <td>3</td>\n",
              "    </tr>\n",
              "    <tr>\n",
              "      <th>4</th>\n",
              "      <td>4.528949</td>\n",
              "      <td>-1.093480</td>\n",
              "      <td>0.973120</td>\n",
              "      <td>-1.419509</td>\n",
              "      <td>-1.715109</td>\n",
              "      <td>1.431609</td>\n",
              "      <td>1.073641</td>\n",
              "      <td>-0.968251</td>\n",
              "      <td>-1.660156</td>\n",
              "      <td>1.174662</td>\n",
              "      <td>...</td>\n",
              "      <td>-0.371822</td>\n",
              "      <td>0.266914</td>\n",
              "      <td>0.487109</td>\n",
              "      <td>-0.315214</td>\n",
              "      <td>-0.585469</td>\n",
              "      <td>-0.216895</td>\n",
              "      <td>-0.237105</td>\n",
              "      <td>-0.123077</td>\n",
              "      <td>0.265478</td>\n",
              "      <td>4</td>\n",
              "    </tr>\n",
              "  </tbody>\n",
              "</table>\n",
              "<p>5 rows × 41 columns</p>\n",
              "</div>\n",
              "      <button class=\"colab-df-convert\" onclick=\"convertToInteractive('df-703abadb-d1e2-4e72-a07d-c27c45231c39')\"\n",
              "              title=\"Convert this dataframe to an interactive table.\"\n",
              "              style=\"display:none;\">\n",
              "        \n",
              "  <svg xmlns=\"http://www.w3.org/2000/svg\" height=\"24px\"viewBox=\"0 0 24 24\"\n",
              "       width=\"24px\">\n",
              "    <path d=\"M0 0h24v24H0V0z\" fill=\"none\"/>\n",
              "    <path d=\"M18.56 5.44l.94 2.06.94-2.06 2.06-.94-2.06-.94-.94-2.06-.94 2.06-2.06.94zm-11 1L8.5 8.5l.94-2.06 2.06-.94-2.06-.94L8.5 2.5l-.94 2.06-2.06.94zm10 10l.94 2.06.94-2.06 2.06-.94-2.06-.94-.94-2.06-.94 2.06-2.06.94z\"/><path d=\"M17.41 7.96l-1.37-1.37c-.4-.4-.92-.59-1.43-.59-.52 0-1.04.2-1.43.59L10.3 9.45l-7.72 7.72c-.78.78-.78 2.05 0 2.83L4 21.41c.39.39.9.59 1.41.59.51 0 1.02-.2 1.41-.59l7.78-7.78 2.81-2.81c.8-.78.8-2.07 0-2.86zM5.41 20L4 18.59l7.72-7.72 1.47 1.35L5.41 20z\"/>\n",
              "  </svg>\n",
              "      </button>\n",
              "      \n",
              "  <style>\n",
              "    .colab-df-container {\n",
              "      display:flex;\n",
              "      flex-wrap:wrap;\n",
              "      gap: 12px;\n",
              "    }\n",
              "\n",
              "    .colab-df-convert {\n",
              "      background-color: #E8F0FE;\n",
              "      border: none;\n",
              "      border-radius: 50%;\n",
              "      cursor: pointer;\n",
              "      display: none;\n",
              "      fill: #1967D2;\n",
              "      height: 32px;\n",
              "      padding: 0 0 0 0;\n",
              "      width: 32px;\n",
              "    }\n",
              "\n",
              "    .colab-df-convert:hover {\n",
              "      background-color: #E2EBFA;\n",
              "      box-shadow: 0px 1px 2px rgba(60, 64, 67, 0.3), 0px 1px 3px 1px rgba(60, 64, 67, 0.15);\n",
              "      fill: #174EA6;\n",
              "    }\n",
              "\n",
              "    [theme=dark] .colab-df-convert {\n",
              "      background-color: #3B4455;\n",
              "      fill: #D2E3FC;\n",
              "    }\n",
              "\n",
              "    [theme=dark] .colab-df-convert:hover {\n",
              "      background-color: #434B5C;\n",
              "      box-shadow: 0px 1px 3px 1px rgba(0, 0, 0, 0.15);\n",
              "      filter: drop-shadow(0px 1px 2px rgba(0, 0, 0, 0.3));\n",
              "      fill: #FFFFFF;\n",
              "    }\n",
              "  </style>\n",
              "\n",
              "      <script>\n",
              "        const buttonEl =\n",
              "          document.querySelector('#df-703abadb-d1e2-4e72-a07d-c27c45231c39 button.colab-df-convert');\n",
              "        buttonEl.style.display =\n",
              "          google.colab.kernel.accessAllowed ? 'block' : 'none';\n",
              "\n",
              "        async function convertToInteractive(key) {\n",
              "          const element = document.querySelector('#df-703abadb-d1e2-4e72-a07d-c27c45231c39');\n",
              "          const dataTable =\n",
              "            await google.colab.kernel.invokeFunction('convertToInteractive',\n",
              "                                                     [key], {});\n",
              "          if (!dataTable) return;\n",
              "\n",
              "          const docLinkHtml = 'Like what you see? Visit the ' +\n",
              "            '<a target=\"_blank\" href=https://colab.research.google.com/notebooks/data_table.ipynb>data table notebook</a>'\n",
              "            + ' to learn more about interactive tables.';\n",
              "          element.innerHTML = '';\n",
              "          dataTable['output_type'] = 'display_data';\n",
              "          await google.colab.output.renderOutput(dataTable, element);\n",
              "          const docLink = document.createElement('div');\n",
              "          docLink.innerHTML = docLinkHtml;\n",
              "          element.appendChild(docLink);\n",
              "        }\n",
              "      </script>\n",
              "    </div>\n",
              "  </div>\n",
              "  "
            ]
          },
          "metadata": {},
          "execution_count": 88
        }
      ]
    },
    {
      "cell_type": "code",
      "source": [
        "dfs_pca_size = [digits.size,digits_pca.size]\n",
        "print(\"digits Original tenía\", dfs_pca_size[0], \"elementos\")\n",
        "print(\"digits_atributos tiene\", dfs_pca_size[1], \"elementos\")"
      ],
      "metadata": {
        "id": "mfdpMYA_hNyL",
        "outputId": "9861d4a3-e71b-4d1b-faba-ccff81744699",
        "colab": {
          "base_uri": "https://localhost:8080/"
        }
      },
      "execution_count": 89,
      "outputs": [
        {
          "output_type": "stream",
          "name": "stdout",
          "text": [
            "digits Original tenía 116805 elementos\n",
            "digits_atributos tiene 73677 elementos\n"
          ]
        }
      ]
    },
    {
      "cell_type": "code",
      "source": [
        "fig = plt.figure(figsize=(10,5))\n",
        "plt.bar(x =[\"digits Original\", \"digits_pca\"], height = dfs_pca_size, color = 'blue' )\n",
        "plt.title(\"Comparativa tamaño de los DataFrames\")\n",
        "plt.ylabel(\"Cantidad de Elementos\")\n",
        "plt.show()\n"
      ],
      "metadata": {
        "id": "6b458lDZhOrn",
        "outputId": "a3a4c220-c465-4d53-9e43-7064c5fc4285",
        "colab": {
          "base_uri": "https://localhost:8080/",
          "height": 339
        }
      },
      "execution_count": 91,
      "outputs": [
        {
          "output_type": "display_data",
          "data": {
            "text/plain": [
              "<Figure size 720x360 with 1 Axes>"
            ],
            "image/png": "[encoded data removed]"
          },
          "metadata": {
            "needs_background": "light"
          }
        }
      ]
    },
    {
      "cell_type": "code",
      "source": [
        "total3 = 0\n",
        "memoria = digits_pca.memory_usage()  \n",
        "for i in range(0,len(memoria)):\n",
        "    total3 += memoria[i]\n",
        "print(\"El DataFrame digits_pca usa un total de:\",total2, 'bytes') \n",
        "print('En comparación el DataFrame original usaba un total de:', total, 'bytes')"
      ],
      "metadata": {
        "id": "PSDY1PgFhQ8u",
        "outputId": "3fc84081-6848-4c71-8f03-3f075834ce63",
        "colab": {
          "base_uri": "https://localhost:8080/"
        }
      },
      "execution_count": 92,
      "outputs": [
        {
          "output_type": "stream",
          "name": "stdout",
          "text": [
            "El DataFrame digits_pca usa un total de: 302024 bytes\n",
            "En comparación el DataFrame original usaba un total de: 934568 bytes\n"
          ]
        }
      ]
    },
    {
      "cell_type": "code",
      "source": [
        "lista = [1e5 * i for i in range(6)]\n",
        "fig = plt.figure(figsize=(10,5))\n",
        "plt.bar(x = [\"digits Original\", \"digits_pca\"], height = [total,total3],color = \"red\")\n",
        "plt.yticks(lista)\n",
        "plt.title(\"Comparativa de memoria utilizada\")\n",
        "plt.ylabel(\"bytes\")\n",
        "plt.show()\n"
      ],
      "metadata": {
        "id": "cwxyU6UmhT-g",
        "outputId": "a4fb7176-0275-4719-dada-f1ac9867ea3a",
        "colab": {
          "base_uri": "https://localhost:8080/",
          "height": 339
        }
      },
      "execution_count": 94,
      "outputs": [
        {
          "output_type": "display_data",
          "data": {
            "text/plain": [
              "<Figure size 720x360 with 1 Axes>"
            ],
            "image/png": "[encoded data removed]"
          },
          "metadata": {
            "needs_background": "light"
          }
        }
      ]
    },
    {
      "cell_type": "code",
      "source": [
        "X = digits.drop(\"target\",axis = 1)\n",
        "y = digits[\"target\"]\n",
        "X_train, X_test, y_train, y_test = train_test_split(X, y, test_size=0.30, \n",
        "                                                    train_size=0.70,\n",
        "                                                    random_state=1998)\n",
        "start_time = time.time()\n",
        "clfsvm.fit(X_train, y_train)\n",
        "\n",
        "time_original = time.time() - start_time\n",
        "print(\" El modelo se ejecutó en %s segundos con el DataFrame Original\" % (time_original)) \n"
      ],
      "metadata": {
        "id": "GOX26cQKhWmP",
        "outputId": "8cb4281d-504a-45ae-e85d-eb7f7a478cb3",
        "colab": {
          "base_uri": "https://localhost:8080/"
        }
      },
      "execution_count": 95,
      "outputs": [
        {
          "output_type": "stream",
          "name": "stdout",
          "text": [
            " El modelo se ejecutó en 0.0598750114440918 segundos con el DataFrame Original\n"
          ]
        }
      ]
    },
    {
      "cell_type": "code",
      "source": [
        "X = digits_pca.drop(\"target\",axis=1)\n",
        "y = digits[\"target\"]\n",
        "X_train, X_test, y_train, y_test = train_test_split(X, y, test_size=0.30, \n",
        "                                                    train_size=0.70,\n",
        "                                                    random_state=1998)\n",
        "start_time = time.time()\n",
        "clfsvm.fit(X_train, y_train)\n",
        "# Se presenta el tiempo en que se ejecutó el modelo \n",
        "time_pca = time.time() - start_time\n",
        "print(\" El modelo se ejecutó en %s segundos con el DataFrame digits_pca\" % (time_pca)) "
      ],
      "metadata": {
        "id": "Swl1dM5whZn5",
        "outputId": "211a9939-26e4-4272-f7b7-2abc0675e425",
        "colab": {
          "base_uri": "https://localhost:8080/"
        }
      },
      "execution_count": 96,
      "outputs": [
        {
          "output_type": "stream",
          "name": "stdout",
          "text": [
            " El modelo se ejecutó en 0.0683889389038086 segundos con el DataFrame digits_pca\n"
          ]
        }
      ]
    },
    {
      "cell_type": "markdown",
      "metadata": {
        "id": "wjifCFtN2ypO"
      },
      "source": [
        "### Ejercicio 6\n",
        "\n",
        "\n",
        "__Visualizando Resultados:__ A continuación se provee código para comparar las etiquetas predichas vs las etiquetas reales del conjunto de _test_. \n"
      ]
    },
    {
      "cell_type": "code",
      "execution_count": 108,
      "metadata": {
        "id": "wOBB1HQg2ypO"
      },
      "outputs": [],
      "source": [
        "def mostar_resultados(digits,model,nx=5, ny=5,label = \"correctos\"):\n",
        "    \"\"\"\n",
        "    Muestra los resultados de las prediciones de un modelo \n",
        "    de clasificacion en particular. Se toman aleatoriamente los valores\n",
        "    de los resultados.\n",
        "    \n",
        "    - label == 'correcto': retorna los valores en que el modelo acierta.\n",
        "    - label == 'incorrecto': retorna los valores en que el modelo no acierta.\n",
        "\n",
        "    \n",
        "    Observacion: El modelo que recibe como argumento debe NO encontrarse\n",
        "    'entrenado'.\n",
        "    \n",
        "    \n",
        "    :param digits: dataset 'digits'\n",
        "    :param model: modelo de sklearn\n",
        "    :param nx: numero de filas (subplots)\n",
        "    :param ny: numero de columnas (subplots)\n",
        "    :param label: datos correctos o incorrectos\n",
        "    :return: graficos matplotlib\n",
        "    \"\"\"\n",
        "    \n",
        "    \n",
        "    X = digits.drop(columns=\"target\").values\n",
        "    Y = digits[\"target\"].values\n",
        "    X_train, X_test, Y_train, Y_test = train_test_split(X, Y, test_size=0.2, random_state = 42) \n",
        "    model.fit(X_train, Y_train) # ajustando el modelo\n",
        "    y_pred = list(model.predict(X_test))\n",
        "\n",
        "    \n",
        "    # Mostrar los datos correctos\n",
        "    if label==\"correctos\":\n",
        "        mask = (y_pred == Y_test)\n",
        "        color = \"green\"\n",
        "        \n",
        "    # Mostrar los datos correctos\n",
        "    elif label==\"incorrectos\":\n",
        "        mask = (y_pred != Y_test)\n",
        "        color = \"red\"\n",
        "    \n",
        "    else:\n",
        "        raise ValueError(\"Valor incorrecto\")\n",
        "        \n",
        "    X_aux = X_test[mask]\n",
        "    y_aux_true = np.array(Y_test)[mask]\n",
        "    y_aux_pred = np.array(y_pred)[mask]\n",
        "\n",
        "    # We'll plot the first 100 examples, randomly choosen\n",
        "    fig, ax = plt.subplots(nx, ny, figsize=(12,12))\n",
        "    for i in range(nx):\n",
        "        for j in range(ny):\n",
        "            index = j + ny * i\n",
        "            data  = X_aux[index, :].reshape(8,8)\n",
        "            label_pred = str(int(y_aux_pred[index]))\n",
        "            label_true = str(int(y_aux_true[index]))\n",
        "            ax[i][j].imshow(data, interpolation='nearest', cmap='gray_r')\n",
        "            ax[i][j].text(0, 0, label_pred, horizontalalignment='center', verticalalignment='center', fontsize=10, color=color)\n",
        "            ax[i][j].text(7, 0, label_true, horizontalalignment='center', verticalalignment='center', fontsize=10, color='blue')\n",
        "            ax[i][j].get_xaxis().set_visible(False)\n",
        "            ax[i][j].get_yaxis().set_visible(False)\n",
        "    plt.show()"
      ]
    },
    {
      "cell_type": "markdown",
      "metadata": {
        "id": "E6SJ1dAw2ypQ"
      },
      "source": [
        "**Pregunta**\n",
        "\n",
        "* Tomando en cuenta el mejor modelo entontrado en el `Ejercicio 3`, grafique los resultados cuando:\n",
        " * el valor predicho y original son iguales\n",
        " * el valor predicho y original son distintos \n",
        "\n",
        "\n",
        "* Cuando el valor predicho y original son distintos ,  ¿Por qué ocurren estas fallas?"
      ]
    },
    {
      "cell_type": "code",
      "execution_count": 101,
      "metadata": {
        "id": "aYOJ9ar-2ypQ"
      },
      "outputs": [],
      "source": [
        "modelo = SVC(kernel= 'rbf', C=7) \n"
      ]
    },
    {
      "cell_type": "code",
      "source": [
        "mostar_resultados(digits,modelo,nx=5, ny=5,label = \"correctos\")"
      ],
      "metadata": {
        "id": "erZYyOpOvqmC",
        "outputId": "b7434069-d346-4b5e-f641-80a67d72219f",
        "colab": {
          "base_uri": "https://localhost:8080/",
          "height": 683
        }
      },
      "execution_count": 109,
      "outputs": [
        {
          "output_type": "display_data",
          "data": {
            "text/plain": [
              "<Figure size 864x864 with 25 Axes>"
            ],
            "image/png": "[encoded data removed]"
          },
          "metadata": {
            "needs_background": "light"
          }
        }
      ]
    },
    {
      "cell_type": "code",
      "source": [
        "mostar_resultados(digits,modelo,nx=2, ny=2,label = \"incorrectos\")"
      ],
      "metadata": {
        "id": "AsLdZKlnvuld",
        "outputId": "cde86da2-b50f-498d-cfee-7df7a9329944",
        "colab": {
          "base_uri": "https://localhost:8080/",
          "height": 683
        }
      },
      "execution_count": 110,
      "outputs": [
        {
          "output_type": "display_data",
          "data": {
            "text/plain": [
              "<Figure size 864x864 with 4 Axes>"
            ],
            "image/png": "[encoded data removed]"
          },
          "metadata": {
            "needs_background": "light"
          }
        }
      ]
    },
    {
      "cell_type": "markdown",
      "source": [
        "Deben ser por que son puntos muy cercanos a la frontera de decisión de SVM, lo cual provoca que el hiperplano no tenga tanta seguridad al clasificarlos."
      ],
      "metadata": {
        "id": "ymXkRj85xflr"
      }
    },
    {
      "cell_type": "markdown",
      "metadata": {
        "id": "Bvg_qaMU2ypR"
      },
      "source": [
        "### Ejercicio 7\n",
        "**Conclusiones**: Entrega tu veredicto, responde las preguntas iniciales, visualizaciones, trabajos futuros, dificultades, etc."
      ]
    },
    {
      "cell_type": "markdown",
      "metadata": {
        "id": "FxpUgUO22ypR"
      },
      "source": [
        "## II.- California Housing Prices\n",
        "\n",
        "\n",
        "<img src=\"https://www.wartsila.com/images/default-source/default-album/california_housing.tmb-1920x690.jpg?sfvrsn=126bc44_1\" width=\"480\" height=\"240\" align=\"center\"/>\n",
        "\n",
        "Los datos se refieren a las casas encontradas en un distrito determinado de California y algunas estadísticas resumidas sobre ellas basadas en los datos del censo de 1990. Tenga en cuenta que los datos no se limpian, por lo que se requieren algunos pasos de procesamiento previo.\n",
        "\n",
        "Las columnas son las siguientes, sus nombres se explican por sí mismos:\n",
        "\n",
        "* longitude\n",
        "* latitude\n",
        "* housingmedianage\n",
        "* total_rooms\n",
        "* total_bedrooms\n",
        "* population\n",
        "* households\n",
        "* median_income\n",
        "* medianhousevalue\n",
        "* ocean_proximity\n",
        "\n",
        "\n",
        "El objetivo es poder predecir el valor promedio de cada propiedad. \n",
        "Para poder completar correctamente este laboratorio, es necesario seguir la siguiente rúbrica de trabajo:\n",
        "\n",
        "1. Definición del problema\n",
        "2. Estadística descriptiva\n",
        "3. Visualización descriptiva\n",
        "4. Preprocesamiento\n",
        "5. Selección de modelo \n",
        "    1. Por lo menos debe comparar cuatro modelos\n",
        "    2. Al menos tres de estos modelos tienen que tener hiperparámetros.\n",
        "    3. Realizar optimización de hiperparámetros.\n",
        "6. Métricas y análisis de resultados\n",
        "7. Visualizaciones del modelo\n",
        "8. Conclusiones\n",
        "\n",
        "> **Observación**: Puede tomar como referencia lo realizado en la sección **I.- Clasificación de dígitos**. El alumno tiene la libertad de desarrollar un análisis más completo del problema (si así lo desea). Puede tomar como referencia el siguiente [link](https://www.kaggle.com/camnugent/california-housing-prices)."
      ]
    },
    {
      "cell_type": "code",
      "execution_count": 30,
      "metadata": {
        "id": "Tt-8n1sC2ypR",
        "outputId": "4a8afa93-02ea-431d-c40c-6cc86541223e",
        "colab": {
          "base_uri": "https://localhost:8080/",
          "height": 359
        }
      },
      "outputs": [
        {
          "output_type": "error",
          "ename": "FileNotFoundError",
          "evalue": "ignored",
          "traceback": [
            "\u001b[0;31m---------------------------------------------------------------------------\u001b[0m",
            "\u001b[0;31mFileNotFoundError\u001b[0m                         Traceback (most recent call last)",
            "\u001b[0;32m<ipython-input-30-4241cd9d74c2>\u001b[0m in \u001b[0;36m<module>\u001b[0;34m\u001b[0m\n\u001b[1;32m      1\u001b[0m \u001b[0;31m# read data\u001b[0m\u001b[0;34m\u001b[0m\u001b[0;34m\u001b[0m\u001b[0;34m\u001b[0m\u001b[0m\n\u001b[0;32m----> 2\u001b[0;31m \u001b[0mhousing\u001b[0m \u001b[0;34m=\u001b[0m \u001b[0mpd\u001b[0m\u001b[0;34m.\u001b[0m\u001b[0mread_csv\u001b[0m\u001b[0;34m(\u001b[0m\u001b[0;34m'data/housing.csv'\u001b[0m\u001b[0;34m,\u001b[0m\u001b[0msep\u001b[0m\u001b[0;34m=\u001b[0m\u001b[0;34m','\u001b[0m\u001b[0;34m)\u001b[0m\u001b[0;34m\u001b[0m\u001b[0;34m\u001b[0m\u001b[0m\n\u001b[0m\u001b[1;32m      3\u001b[0m \u001b[0mhousing\u001b[0m\u001b[0;34m.\u001b[0m\u001b[0mhead\u001b[0m\u001b[0;34m(\u001b[0m\u001b[0;34m)\u001b[0m\u001b[0;34m\u001b[0m\u001b[0;34m\u001b[0m\u001b[0m\n",
            "\u001b[0;32m/usr/local/lib/python3.8/dist-packages/pandas/util/_decorators.py\u001b[0m in \u001b[0;36mwrapper\u001b[0;34m(*args, **kwargs)\u001b[0m\n\u001b[1;32m    309\u001b[0m                     \u001b[0mstacklevel\u001b[0m\u001b[0;34m=\u001b[0m\u001b[0mstacklevel\u001b[0m\u001b[0;34m,\u001b[0m\u001b[0;34m\u001b[0m\u001b[0;34m\u001b[0m\u001b[0m\n\u001b[1;32m    310\u001b[0m                 )\n\u001b[0;32m--> 311\u001b[0;31m             \u001b[0;32mreturn\u001b[0m \u001b[0mfunc\u001b[0m\u001b[0;34m(\u001b[0m\u001b[0;34m*\u001b[0m\u001b[0margs\u001b[0m\u001b[0;34m,\u001b[0m \u001b[0;34m**\u001b[0m\u001b[0mkwargs\u001b[0m\u001b[0;34m)\u001b[0m\u001b[0;34m\u001b[0m\u001b[0;34m\u001b[0m\u001b[0m\n\u001b[0m\u001b[1;32m    312\u001b[0m \u001b[0;34m\u001b[0m\u001b[0m\n\u001b[1;32m    313\u001b[0m         \u001b[0;32mreturn\u001b[0m \u001b[0mwrapper\u001b[0m\u001b[0;34m\u001b[0m\u001b[0;34m\u001b[0m\u001b[0m\n",
            "\u001b[0;32m/usr/local/lib/python3.8/dist-packages/pandas/io/parsers/readers.py\u001b[0m in \u001b[0;36mread_csv\u001b[0;34m(filepath_or_buffer, sep, delimiter, header, names, index_col, usecols, squeeze, prefix, mangle_dupe_cols, dtype, engine, converters, true_values, false_values, skipinitialspace, skiprows, skipfooter, nrows, na_values, keep_default_na, na_filter, verbose, skip_blank_lines, parse_dates, infer_datetime_format, keep_date_col, date_parser, dayfirst, cache_dates, iterator, chunksize, compression, thousands, decimal, lineterminator, quotechar, quoting, doublequote, escapechar, comment, encoding, encoding_errors, dialect, error_bad_lines, warn_bad_lines, on_bad_lines, delim_whitespace, low_memory, memory_map, float_precision, storage_options)\u001b[0m\n\u001b[1;32m    584\u001b[0m     \u001b[0mkwds\u001b[0m\u001b[0;34m.\u001b[0m\u001b[0mupdate\u001b[0m\u001b[0;34m(\u001b[0m\u001b[0mkwds_defaults\u001b[0m\u001b[0;34m)\u001b[0m\u001b[0;34m\u001b[0m\u001b[0;34m\u001b[0m\u001b[0m\n\u001b[1;32m    585\u001b[0m \u001b[0;34m\u001b[0m\u001b[0m\n\u001b[0;32m--> 586\u001b[0;31m     \u001b[0;32mreturn\u001b[0m \u001b[0m_read\u001b[0m\u001b[0;34m(\u001b[0m\u001b[0mfilepath_or_buffer\u001b[0m\u001b[0;34m,\u001b[0m \u001b[0mkwds\u001b[0m\u001b[0;34m)\u001b[0m\u001b[0;34m\u001b[0m\u001b[0;34m\u001b[0m\u001b[0m\n\u001b[0m\u001b[1;32m    587\u001b[0m \u001b[0;34m\u001b[0m\u001b[0m\n\u001b[1;32m    588\u001b[0m \u001b[0;34m\u001b[0m\u001b[0m\n",
            "\u001b[0;32m/usr/local/lib/python3.8/dist-packages/pandas/io/parsers/readers.py\u001b[0m in \u001b[0;36m_read\u001b[0;34m(filepath_or_buffer, kwds)\u001b[0m\n\u001b[1;32m    480\u001b[0m \u001b[0;34m\u001b[0m\u001b[0m\n\u001b[1;32m    481\u001b[0m     \u001b[0;31m# Create the parser.\u001b[0m\u001b[0;34m\u001b[0m\u001b[0;34m\u001b[0m\u001b[0;34m\u001b[0m\u001b[0m\n\u001b[0;32m--> 482\u001b[0;31m     \u001b[0mparser\u001b[0m \u001b[0;34m=\u001b[0m \u001b[0mTextFileReader\u001b[0m\u001b[0;34m(\u001b[0m\u001b[0mfilepath_or_buffer\u001b[0m\u001b[0;34m,\u001b[0m \u001b[0;34m**\u001b[0m\u001b[0mkwds\u001b[0m\u001b[0;34m)\u001b[0m\u001b[0;34m\u001b[0m\u001b[0;34m\u001b[0m\u001b[0m\n\u001b[0m\u001b[1;32m    483\u001b[0m \u001b[0;34m\u001b[0m\u001b[0m\n\u001b[1;32m    484\u001b[0m     \u001b[0;32mif\u001b[0m \u001b[0mchunksize\u001b[0m \u001b[0;32mor\u001b[0m \u001b[0miterator\u001b[0m\u001b[0;34m:\u001b[0m\u001b[0;34m\u001b[0m\u001b[0;34m\u001b[0m\u001b[0m\n",
            "\u001b[0;32m/usr/local/lib/python3.8/dist-packages/pandas/io/parsers/readers.py\u001b[0m in \u001b[0;36m__init__\u001b[0;34m(self, f, engine, **kwds)\u001b[0m\n\u001b[1;32m    809\u001b[0m             \u001b[0mself\u001b[0m\u001b[0;34m.\u001b[0m\u001b[0moptions\u001b[0m\u001b[0;34m[\u001b[0m\u001b[0;34m\"has_index_names\"\u001b[0m\u001b[0;34m]\u001b[0m \u001b[0;34m=\u001b[0m \u001b[0mkwds\u001b[0m\u001b[0;34m[\u001b[0m\u001b[0;34m\"has_index_names\"\u001b[0m\u001b[0;34m]\u001b[0m\u001b[0;34m\u001b[0m\u001b[0;34m\u001b[0m\u001b[0m\n\u001b[1;32m    810\u001b[0m \u001b[0;34m\u001b[0m\u001b[0m\n\u001b[0;32m--> 811\u001b[0;31m         \u001b[0mself\u001b[0m\u001b[0;34m.\u001b[0m\u001b[0m_engine\u001b[0m \u001b[0;34m=\u001b[0m \u001b[0mself\u001b[0m\u001b[0;34m.\u001b[0m\u001b[0m_make_engine\u001b[0m\u001b[0;34m(\u001b[0m\u001b[0mself\u001b[0m\u001b[0;34m.\u001b[0m\u001b[0mengine\u001b[0m\u001b[0;34m)\u001b[0m\u001b[0;34m\u001b[0m\u001b[0;34m\u001b[0m\u001b[0m\n\u001b[0m\u001b[1;32m    812\u001b[0m \u001b[0;34m\u001b[0m\u001b[0m\n\u001b[1;32m    813\u001b[0m     \u001b[0;32mdef\u001b[0m \u001b[0mclose\u001b[0m\u001b[0;34m(\u001b[0m\u001b[0mself\u001b[0m\u001b[0;34m)\u001b[0m\u001b[0;34m:\u001b[0m\u001b[0;34m\u001b[0m\u001b[0;34m\u001b[0m\u001b[0m\n",
            "\u001b[0;32m/usr/local/lib/python3.8/dist-packages/pandas/io/parsers/readers.py\u001b[0m in \u001b[0;36m_make_engine\u001b[0;34m(self, engine)\u001b[0m\n\u001b[1;32m   1038\u001b[0m             )\n\u001b[1;32m   1039\u001b[0m         \u001b[0;31m# error: Too many arguments for \"ParserBase\"\u001b[0m\u001b[0;34m\u001b[0m\u001b[0;34m\u001b[0m\u001b[0;34m\u001b[0m\u001b[0m\n\u001b[0;32m-> 1040\u001b[0;31m         \u001b[0;32mreturn\u001b[0m \u001b[0mmapping\u001b[0m\u001b[0;34m[\u001b[0m\u001b[0mengine\u001b[0m\u001b[0;34m]\u001b[0m\u001b[0;34m(\u001b[0m\u001b[0mself\u001b[0m\u001b[0;34m.\u001b[0m\u001b[0mf\u001b[0m\u001b[0;34m,\u001b[0m \u001b[0;34m**\u001b[0m\u001b[0mself\u001b[0m\u001b[0;34m.\u001b[0m\u001b[0moptions\u001b[0m\u001b[0;34m)\u001b[0m  \u001b[0;31m# type: ignore[call-arg]\u001b[0m\u001b[0;34m\u001b[0m\u001b[0;34m\u001b[0m\u001b[0m\n\u001b[0m\u001b[1;32m   1041\u001b[0m \u001b[0;34m\u001b[0m\u001b[0m\n\u001b[1;32m   1042\u001b[0m     \u001b[0;32mdef\u001b[0m \u001b[0m_failover_to_python\u001b[0m\u001b[0;34m(\u001b[0m\u001b[0mself\u001b[0m\u001b[0;34m)\u001b[0m\u001b[0;34m:\u001b[0m\u001b[0;34m\u001b[0m\u001b[0;34m\u001b[0m\u001b[0m\n",
            "\u001b[0;32m/usr/local/lib/python3.8/dist-packages/pandas/io/parsers/c_parser_wrapper.py\u001b[0m in \u001b[0;36m__init__\u001b[0;34m(self, src, **kwds)\u001b[0m\n\u001b[1;32m     49\u001b[0m \u001b[0;34m\u001b[0m\u001b[0m\n\u001b[1;32m     50\u001b[0m         \u001b[0;31m# open handles\u001b[0m\u001b[0;34m\u001b[0m\u001b[0;34m\u001b[0m\u001b[0;34m\u001b[0m\u001b[0m\n\u001b[0;32m---> 51\u001b[0;31m         \u001b[0mself\u001b[0m\u001b[0;34m.\u001b[0m\u001b[0m_open_handles\u001b[0m\u001b[0;34m(\u001b[0m\u001b[0msrc\u001b[0m\u001b[0;34m,\u001b[0m \u001b[0mkwds\u001b[0m\u001b[0;34m)\u001b[0m\u001b[0;34m\u001b[0m\u001b[0;34m\u001b[0m\u001b[0m\n\u001b[0m\u001b[1;32m     52\u001b[0m         \u001b[0;32massert\u001b[0m \u001b[0mself\u001b[0m\u001b[0;34m.\u001b[0m\u001b[0mhandles\u001b[0m \u001b[0;32mis\u001b[0m \u001b[0;32mnot\u001b[0m \u001b[0;32mNone\u001b[0m\u001b[0;34m\u001b[0m\u001b[0;34m\u001b[0m\u001b[0m\n\u001b[1;32m     53\u001b[0m \u001b[0;34m\u001b[0m\u001b[0m\n",
            "\u001b[0;32m/usr/local/lib/python3.8/dist-packages/pandas/io/parsers/base_parser.py\u001b[0m in \u001b[0;36m_open_handles\u001b[0;34m(self, src, kwds)\u001b[0m\n\u001b[1;32m    220\u001b[0m         \u001b[0mLet\u001b[0m \u001b[0mthe\u001b[0m \u001b[0mreaders\u001b[0m \u001b[0mopen\u001b[0m \u001b[0mIOHandles\u001b[0m \u001b[0mafter\u001b[0m \u001b[0mthey\u001b[0m \u001b[0mare\u001b[0m \u001b[0mdone\u001b[0m \u001b[0;32mwith\u001b[0m \u001b[0mtheir\u001b[0m \u001b[0mpotential\u001b[0m \u001b[0mraises\u001b[0m\u001b[0;34m.\u001b[0m\u001b[0;34m\u001b[0m\u001b[0;34m\u001b[0m\u001b[0m\n\u001b[1;32m    221\u001b[0m         \"\"\"\n\u001b[0;32m--> 222\u001b[0;31m         self.handles = get_handle(\n\u001b[0m\u001b[1;32m    223\u001b[0m             \u001b[0msrc\u001b[0m\u001b[0;34m,\u001b[0m\u001b[0;34m\u001b[0m\u001b[0;34m\u001b[0m\u001b[0m\n\u001b[1;32m    224\u001b[0m             \u001b[0;34m\"r\"\u001b[0m\u001b[0;34m,\u001b[0m\u001b[0;34m\u001b[0m\u001b[0;34m\u001b[0m\u001b[0m\n",
            "\u001b[0;32m/usr/local/lib/python3.8/dist-packages/pandas/io/common.py\u001b[0m in \u001b[0;36mget_handle\u001b[0;34m(path_or_buf, mode, encoding, compression, memory_map, is_text, errors, storage_options)\u001b[0m\n\u001b[1;32m    700\u001b[0m         \u001b[0;32mif\u001b[0m \u001b[0mioargs\u001b[0m\u001b[0;34m.\u001b[0m\u001b[0mencoding\u001b[0m \u001b[0;32mand\u001b[0m \u001b[0;34m\"b\"\u001b[0m \u001b[0;32mnot\u001b[0m \u001b[0;32min\u001b[0m \u001b[0mioargs\u001b[0m\u001b[0;34m.\u001b[0m\u001b[0mmode\u001b[0m\u001b[0;34m:\u001b[0m\u001b[0;34m\u001b[0m\u001b[0;34m\u001b[0m\u001b[0m\n\u001b[1;32m    701\u001b[0m             \u001b[0;31m# Encoding\u001b[0m\u001b[0;34m\u001b[0m\u001b[0;34m\u001b[0m\u001b[0;34m\u001b[0m\u001b[0m\n\u001b[0;32m--> 702\u001b[0;31m             handle = open(\n\u001b[0m\u001b[1;32m    703\u001b[0m                 \u001b[0mhandle\u001b[0m\u001b[0;34m,\u001b[0m\u001b[0;34m\u001b[0m\u001b[0;34m\u001b[0m\u001b[0m\n\u001b[1;32m    704\u001b[0m                 \u001b[0mioargs\u001b[0m\u001b[0;34m.\u001b[0m\u001b[0mmode\u001b[0m\u001b[0;34m,\u001b[0m\u001b[0;34m\u001b[0m\u001b[0;34m\u001b[0m\u001b[0m\n",
            "\u001b[0;31mFileNotFoundError\u001b[0m: [Errno 2] No such file or directory: 'data/housing.csv'"
          ]
        }
      ],
      "source": [
        "# read data\n",
        "housing = pd.read_csv('data/housing.csv',sep=',')\n",
        "housing.head()"
      ]
    },
    {
      "cell_type": "code",
      "execution_count": null,
      "metadata": {
        "id": "fryEfTTU2ypS"
      },
      "outputs": [],
      "source": [
        "## FIX ME PLEASE"
      ]
    }
  ],
  "metadata": {
    "kernelspec": {
      "display_name": "Python 3",
      "language": "python",
      "name": "python3"
    },
    "language_info": {
      "codemirror_mode": {
        "name": "ipython",
        "version": 3
      },
      "file_extension": ".py",
      "mimetype": "text/x-python",
      "name": "python",
      "nbconvert_exporter": "python",
      "pygments_lexer": "ipython3",
      "version": "3.8.10"
    },
    "latex_envs": {
      "LaTeX_envs_menu_present": true,
      "autoclose": false,
      "autocomplete": true,
      "bibliofile": "biblio.bib",
      "cite_by": "apalike",
      "current_citInitial": 1,
      "eqLabelWithNumbers": true,
      "eqNumInitial": 1,
      "hotkeys": {
        "equation": "Ctrl-E",
        "itemize": "Ctrl-I"
      },
      "labels_anchors": false,
      "latex_user_defs": false,
      "report_style_numbering": false,
      "user_envs_cfg": false
    },
    "colab": {
      "provenance": []
    }
  },
  "nbformat": 4,
  "nbformat_minor": 0
}