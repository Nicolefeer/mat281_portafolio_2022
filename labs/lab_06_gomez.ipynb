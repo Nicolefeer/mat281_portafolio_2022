{
  "cells": [
    {
      "cell_type": "markdown",
      "metadata": {
        "id": "dK3MmTZhXa-u"
      },
      "source": [
        "<a href=\"https://colab.research.google.com/github/fralfaro/MAT281_2022/blob/main/labs/lab_06/lab_06.ipynb\n",
        "\" target=\"_parent\"><img src=\"https://colab.research.google.com/assets/colab-badge.svg\" alt=\"Open In Colab\"/></a>\n",
        "\n",
        "\n",
        "# MAT281 - Laboratorios N°06"
      ]
    },
    {
      "cell_type": "markdown",
      "metadata": {
        "id": "q_jo5iMXXa-3"
      },
      "source": [
        "<a id='p1'></a>\n",
        "## I.- Problema 01\n",
        "\n",
        "\n",
        "<img src=\"https://upload.wikimedia.org/wikipedia/commons/thumb/b/b6/Anscombe.svg/1200px-Anscombe.svg.png\" width=\"360\" height=\"360\" align=\"center\"/>\n",
        "\n"
      ]
    },
    {
      "cell_type": "markdown",
      "metadata": {
        "id": "VzrfbU3tXa-5"
      },
      "source": [
        "El **cuarteto de Anscombe** comprende cuatro conjuntos de datos que tienen las mismas propiedades estadísticas, pero que evidentemente son distintas al inspeccionar sus gráficos respectivos.\n",
        "\n",
        "Cada conjunto consiste de once puntos (x, y) y fueron construidos por el estadístico F. J. Anscombe. El cuarteto es una demostración de la importancia de mirar gráficamente un conjunto de datos antes de analizarlos."
      ]
    },
    {
      "cell_type": "code",
      "execution_count": 235,
      "metadata": {
        "id": "7ldcvLLaXa-8"
      },
      "outputs": [],
      "source": [
        "import os\n",
        "import numpy as np\n",
        "import pandas as pd\n",
        "import matplotlib.pyplot as plt\n",
        "import seaborn as sns\n",
        "\n",
        "%matplotlib inline\n",
        "sns.set_palette(\"deep\", desat=.6)\n",
        "sns.set(rc={'figure.figsize':(11.7,8.27)})"
      ]
    },
    {
      "cell_type": "code",
      "execution_count": 236,
      "metadata": {
        "id": "7L42h75GXa-_",
        "outputId": "5c6028ea-0aa2-4d81-e954-a6d71e6642ce",
        "colab": {
          "base_uri": "https://localhost:8080/",
          "height": 206
        }
      },
      "outputs": [
        {
          "output_type": "execute_result",
          "data": {
            "text/plain": [
              "    x     y    grupo\n",
              "0  10  8.04  Grupo_1\n",
              "1   8  6.95  Grupo_1\n",
              "2  13  7.58  Grupo_1\n",
              "3   9  8.81  Grupo_1\n",
              "4  11  8.33  Grupo_1"
            ],
            "text/html": [
              "\n",
              "  <div id=\"df-07c90f64-b264-4f90-8aeb-acd5d6bd8b0f\">\n",
              "    <div class=\"colab-df-container\">\n",
              "      <div>\n",
              "<style scoped>\n",
              "    .dataframe tbody tr th:only-of-type {\n",
              "        vertical-align: middle;\n",
              "    }\n",
              "\n",
              "    .dataframe tbody tr th {\n",
              "        vertical-align: top;\n",
              "    }\n",
              "\n",
              "    .dataframe thead th {\n",
              "        text-align: right;\n",
              "    }\n",
              "</style>\n",
              "<table border=\"1\" class=\"dataframe\">\n",
              "  <thead>\n",
              "    <tr style=\"text-align: right;\">\n",
              "      <th></th>\n",
              "      <th>x</th>\n",
              "      <th>y</th>\n",
              "      <th>grupo</th>\n",
              "    </tr>\n",
              "  </thead>\n",
              "  <tbody>\n",
              "    <tr>\n",
              "      <th>0</th>\n",
              "      <td>10</td>\n",
              "      <td>8.04</td>\n",
              "      <td>Grupo_1</td>\n",
              "    </tr>\n",
              "    <tr>\n",
              "      <th>1</th>\n",
              "      <td>8</td>\n",
              "      <td>6.95</td>\n",
              "      <td>Grupo_1</td>\n",
              "    </tr>\n",
              "    <tr>\n",
              "      <th>2</th>\n",
              "      <td>13</td>\n",
              "      <td>7.58</td>\n",
              "      <td>Grupo_1</td>\n",
              "    </tr>\n",
              "    <tr>\n",
              "      <th>3</th>\n",
              "      <td>9</td>\n",
              "      <td>8.81</td>\n",
              "      <td>Grupo_1</td>\n",
              "    </tr>\n",
              "    <tr>\n",
              "      <th>4</th>\n",
              "      <td>11</td>\n",
              "      <td>8.33</td>\n",
              "      <td>Grupo_1</td>\n",
              "    </tr>\n",
              "  </tbody>\n",
              "</table>\n",
              "</div>\n",
              "      <button class=\"colab-df-convert\" onclick=\"convertToInteractive('df-07c90f64-b264-4f90-8aeb-acd5d6bd8b0f')\"\n",
              "              title=\"Convert this dataframe to an interactive table.\"\n",
              "              style=\"display:none;\">\n",
              "        \n",
              "  <svg xmlns=\"http://www.w3.org/2000/svg\" height=\"24px\"viewBox=\"0 0 24 24\"\n",
              "       width=\"24px\">\n",
              "    <path d=\"M0 0h24v24H0V0z\" fill=\"none\"/>\n",
              "    <path d=\"M18.56 5.44l.94 2.06.94-2.06 2.06-.94-2.06-.94-.94-2.06-.94 2.06-2.06.94zm-11 1L8.5 8.5l.94-2.06 2.06-.94-2.06-.94L8.5 2.5l-.94 2.06-2.06.94zm10 10l.94 2.06.94-2.06 2.06-.94-2.06-.94-.94-2.06-.94 2.06-2.06.94z\"/><path d=\"M17.41 7.96l-1.37-1.37c-.4-.4-.92-.59-1.43-.59-.52 0-1.04.2-1.43.59L10.3 9.45l-7.72 7.72c-.78.78-.78 2.05 0 2.83L4 21.41c.39.39.9.59 1.41.59.51 0 1.02-.2 1.41-.59l7.78-7.78 2.81-2.81c.8-.78.8-2.07 0-2.86zM5.41 20L4 18.59l7.72-7.72 1.47 1.35L5.41 20z\"/>\n",
              "  </svg>\n",
              "      </button>\n",
              "      \n",
              "  <style>\n",
              "    .colab-df-container {\n",
              "      display:flex;\n",
              "      flex-wrap:wrap;\n",
              "      gap: 12px;\n",
              "    }\n",
              "\n",
              "    .colab-df-convert {\n",
              "      background-color: #E8F0FE;\n",
              "      border: none;\n",
              "      border-radius: 50%;\n",
              "      cursor: pointer;\n",
              "      display: none;\n",
              "      fill: #1967D2;\n",
              "      height: 32px;\n",
              "      padding: 0 0 0 0;\n",
              "      width: 32px;\n",
              "    }\n",
              "\n",
              "    .colab-df-convert:hover {\n",
              "      background-color: #E2EBFA;\n",
              "      box-shadow: 0px 1px 2px rgba(60, 64, 67, 0.3), 0px 1px 3px 1px rgba(60, 64, 67, 0.15);\n",
              "      fill: #174EA6;\n",
              "    }\n",
              "\n",
              "    [theme=dark] .colab-df-convert {\n",
              "      background-color: #3B4455;\n",
              "      fill: #D2E3FC;\n",
              "    }\n",
              "\n",
              "    [theme=dark] .colab-df-convert:hover {\n",
              "      background-color: #434B5C;\n",
              "      box-shadow: 0px 1px 3px 1px rgba(0, 0, 0, 0.15);\n",
              "      filter: drop-shadow(0px 1px 2px rgba(0, 0, 0, 0.3));\n",
              "      fill: #FFFFFF;\n",
              "    }\n",
              "  </style>\n",
              "\n",
              "      <script>\n",
              "        const buttonEl =\n",
              "          document.querySelector('#df-07c90f64-b264-4f90-8aeb-acd5d6bd8b0f button.colab-df-convert');\n",
              "        buttonEl.style.display =\n",
              "          google.colab.kernel.accessAllowed ? 'block' : 'none';\n",
              "\n",
              "        async function convertToInteractive(key) {\n",
              "          const element = document.querySelector('#df-07c90f64-b264-4f90-8aeb-acd5d6bd8b0f');\n",
              "          const dataTable =\n",
              "            await google.colab.kernel.invokeFunction('convertToInteractive',\n",
              "                                                     [key], {});\n",
              "          if (!dataTable) return;\n",
              "\n",
              "          const docLinkHtml = 'Like what you see? Visit the ' +\n",
              "            '<a target=\"_blank\" href=https://colab.research.google.com/notebooks/data_table.ipynb>data table notebook</a>'\n",
              "            + ' to learn more about interactive tables.';\n",
              "          element.innerHTML = '';\n",
              "          dataTable['output_type'] = 'display_data';\n",
              "          await google.colab.output.renderOutput(dataTable, element);\n",
              "          const docLink = document.createElement('div');\n",
              "          docLink.innerHTML = docLinkHtml;\n",
              "          element.appendChild(docLink);\n",
              "        }\n",
              "      </script>\n",
              "    </div>\n",
              "  </div>\n",
              "  "
            ]
          },
          "metadata": {},
          "execution_count": 236
        }
      ],
      "source": [
        "# cargar datos\n",
        "df = pd.read_csv(\"https://raw.githubusercontent.com/fralfaro/MAT281_2022/main/labs/lab_06/data/anscombe.csv\")\n",
        "\n",
        "df.head()"
      ]
    },
    {
      "cell_type": "markdown",
      "metadata": {
        "id": "B9nMyBDXXa_D"
      },
      "source": [
        "Basado en la información presentada responda las siguientes preguntas:\n",
        "\n",
        "1. Gráfique mediante un gráfico tipo **scatter** cada grupo. A simple vista, ¿ los grupos son muy distintos entre si?.\n",
        "2. Realice un resumen de las medidas estadísticas más significativas ocuapando el comando **describe** para cada grupo. Interprete.\n",
        "3. Realice un ajuste lineal para cada grupo. Además, grafique los resultados de la regresión lineal para cada grupo. Interprete.\n",
        "4. Calcule los resultados de las métricas para cada grupo. Interprete.\n",
        "5. Es claro que el ajuste lineal para algunos grupos no es el correcto. Existen varias formas de solucionar este problema (eliminar outliers, otros modelos, etc.). Identifique una estrategia para que el modelo de regresión lineal ajuste de mejor manera e implemente otros modelos en los casos que encuentre necesario.  "
      ]
    },
    {
      "cell_type": "markdown",
      "source": [
        "# **Desarrollo:**"
      ],
      "metadata": {
        "id": "CCgzRCOrYg45"
      }
    },
    {
      "cell_type": "markdown",
      "source": [
        "**1. Gráfique mediante un gráfico tipo scatter cada grupo. A simple vista, ¿ los grupos son muy distintos entre si?**"
      ],
      "metadata": {
        "id": "LWR72dWtYujb"
      }
    },
    {
      "cell_type": "code",
      "source": [
        "#Separo los grupos\n",
        "grafico1= df[df['grupo']== 'Grupo_1']\n",
        "grafico2= df[df['grupo']== 'Grupo_2']\n",
        "grafico3= df[df['grupo']== 'Grupo_3']\n",
        "grafico4= df[df['grupo']== 'Grupo_4']"
      ],
      "metadata": {
        "id": "gaJavJ-QY5jd"
      },
      "execution_count": 237,
      "outputs": []
    },
    {
      "cell_type": "code",
      "source": [
        "grafico4"
      ],
      "metadata": {
        "colab": {
          "base_uri": "https://localhost:8080/",
          "height": 394
        },
        "id": "r9KlaFMDZIcD",
        "outputId": "9aefe321-a686-4552-9e5e-f19c459d0282"
      },
      "execution_count": 238,
      "outputs": [
        {
          "output_type": "execute_result",
          "data": {
            "text/plain": [
              "     x      y    grupo\n",
              "33   8   6.58  Grupo_4\n",
              "34   8   5.76  Grupo_4\n",
              "35   8   7.71  Grupo_4\n",
              "36   8   8.84  Grupo_4\n",
              "37   8   8.47  Grupo_4\n",
              "38   8   7.04  Grupo_4\n",
              "39   8   5.25  Grupo_4\n",
              "40  19  12.50  Grupo_4\n",
              "41   8   5.56  Grupo_4\n",
              "42   8   7.91  Grupo_4\n",
              "43   8   6.89  Grupo_4"
            ],
            "text/html": [
              "\n",
              "  <div id=\"df-d9e18c70-4872-4e0d-b697-01d97023490c\">\n",
              "    <div class=\"colab-df-container\">\n",
              "      <div>\n",
              "<style scoped>\n",
              "    .dataframe tbody tr th:only-of-type {\n",
              "        vertical-align: middle;\n",
              "    }\n",
              "\n",
              "    .dataframe tbody tr th {\n",
              "        vertical-align: top;\n",
              "    }\n",
              "\n",
              "    .dataframe thead th {\n",
              "        text-align: right;\n",
              "    }\n",
              "</style>\n",
              "<table border=\"1\" class=\"dataframe\">\n",
              "  <thead>\n",
              "    <tr style=\"text-align: right;\">\n",
              "      <th></th>\n",
              "      <th>x</th>\n",
              "      <th>y</th>\n",
              "      <th>grupo</th>\n",
              "    </tr>\n",
              "  </thead>\n",
              "  <tbody>\n",
              "    <tr>\n",
              "      <th>33</th>\n",
              "      <td>8</td>\n",
              "      <td>6.58</td>\n",
              "      <td>Grupo_4</td>\n",
              "    </tr>\n",
              "    <tr>\n",
              "      <th>34</th>\n",
              "      <td>8</td>\n",
              "      <td>5.76</td>\n",
              "      <td>Grupo_4</td>\n",
              "    </tr>\n",
              "    <tr>\n",
              "      <th>35</th>\n",
              "      <td>8</td>\n",
              "      <td>7.71</td>\n",
              "      <td>Grupo_4</td>\n",
              "    </tr>\n",
              "    <tr>\n",
              "      <th>36</th>\n",
              "      <td>8</td>\n",
              "      <td>8.84</td>\n",
              "      <td>Grupo_4</td>\n",
              "    </tr>\n",
              "    <tr>\n",
              "      <th>37</th>\n",
              "      <td>8</td>\n",
              "      <td>8.47</td>\n",
              "      <td>Grupo_4</td>\n",
              "    </tr>\n",
              "    <tr>\n",
              "      <th>38</th>\n",
              "      <td>8</td>\n",
              "      <td>7.04</td>\n",
              "      <td>Grupo_4</td>\n",
              "    </tr>\n",
              "    <tr>\n",
              "      <th>39</th>\n",
              "      <td>8</td>\n",
              "      <td>5.25</td>\n",
              "      <td>Grupo_4</td>\n",
              "    </tr>\n",
              "    <tr>\n",
              "      <th>40</th>\n",
              "      <td>19</td>\n",
              "      <td>12.50</td>\n",
              "      <td>Grupo_4</td>\n",
              "    </tr>\n",
              "    <tr>\n",
              "      <th>41</th>\n",
              "      <td>8</td>\n",
              "      <td>5.56</td>\n",
              "      <td>Grupo_4</td>\n",
              "    </tr>\n",
              "    <tr>\n",
              "      <th>42</th>\n",
              "      <td>8</td>\n",
              "      <td>7.91</td>\n",
              "      <td>Grupo_4</td>\n",
              "    </tr>\n",
              "    <tr>\n",
              "      <th>43</th>\n",
              "      <td>8</td>\n",
              "      <td>6.89</td>\n",
              "      <td>Grupo_4</td>\n",
              "    </tr>\n",
              "  </tbody>\n",
              "</table>\n",
              "</div>\n",
              "      <button class=\"colab-df-convert\" onclick=\"convertToInteractive('df-d9e18c70-4872-4e0d-b697-01d97023490c')\"\n",
              "              title=\"Convert this dataframe to an interactive table.\"\n",
              "              style=\"display:none;\">\n",
              "        \n",
              "  <svg xmlns=\"http://www.w3.org/2000/svg\" height=\"24px\"viewBox=\"0 0 24 24\"\n",
              "       width=\"24px\">\n",
              "    <path d=\"M0 0h24v24H0V0z\" fill=\"none\"/>\n",
              "    <path d=\"M18.56 5.44l.94 2.06.94-2.06 2.06-.94-2.06-.94-.94-2.06-.94 2.06-2.06.94zm-11 1L8.5 8.5l.94-2.06 2.06-.94-2.06-.94L8.5 2.5l-.94 2.06-2.06.94zm10 10l.94 2.06.94-2.06 2.06-.94-2.06-.94-.94-2.06-.94 2.06-2.06.94z\"/><path d=\"M17.41 7.96l-1.37-1.37c-.4-.4-.92-.59-1.43-.59-.52 0-1.04.2-1.43.59L10.3 9.45l-7.72 7.72c-.78.78-.78 2.05 0 2.83L4 21.41c.39.39.9.59 1.41.59.51 0 1.02-.2 1.41-.59l7.78-7.78 2.81-2.81c.8-.78.8-2.07 0-2.86zM5.41 20L4 18.59l7.72-7.72 1.47 1.35L5.41 20z\"/>\n",
              "  </svg>\n",
              "      </button>\n",
              "      \n",
              "  <style>\n",
              "    .colab-df-container {\n",
              "      display:flex;\n",
              "      flex-wrap:wrap;\n",
              "      gap: 12px;\n",
              "    }\n",
              "\n",
              "    .colab-df-convert {\n",
              "      background-color: #E8F0FE;\n",
              "      border: none;\n",
              "      border-radius: 50%;\n",
              "      cursor: pointer;\n",
              "      display: none;\n",
              "      fill: #1967D2;\n",
              "      height: 32px;\n",
              "      padding: 0 0 0 0;\n",
              "      width: 32px;\n",
              "    }\n",
              "\n",
              "    .colab-df-convert:hover {\n",
              "      background-color: #E2EBFA;\n",
              "      box-shadow: 0px 1px 2px rgba(60, 64, 67, 0.3), 0px 1px 3px 1px rgba(60, 64, 67, 0.15);\n",
              "      fill: #174EA6;\n",
              "    }\n",
              "\n",
              "    [theme=dark] .colab-df-convert {\n",
              "      background-color: #3B4455;\n",
              "      fill: #D2E3FC;\n",
              "    }\n",
              "\n",
              "    [theme=dark] .colab-df-convert:hover {\n",
              "      background-color: #434B5C;\n",
              "      box-shadow: 0px 1px 3px 1px rgba(0, 0, 0, 0.15);\n",
              "      filter: drop-shadow(0px 1px 2px rgba(0, 0, 0, 0.3));\n",
              "      fill: #FFFFFF;\n",
              "    }\n",
              "  </style>\n",
              "\n",
              "      <script>\n",
              "        const buttonEl =\n",
              "          document.querySelector('#df-d9e18c70-4872-4e0d-b697-01d97023490c button.colab-df-convert');\n",
              "        buttonEl.style.display =\n",
              "          google.colab.kernel.accessAllowed ? 'block' : 'none';\n",
              "\n",
              "        async function convertToInteractive(key) {\n",
              "          const element = document.querySelector('#df-d9e18c70-4872-4e0d-b697-01d97023490c');\n",
              "          const dataTable =\n",
              "            await google.colab.kernel.invokeFunction('convertToInteractive',\n",
              "                                                     [key], {});\n",
              "          if (!dataTable) return;\n",
              "\n",
              "          const docLinkHtml = 'Like what you see? Visit the ' +\n",
              "            '<a target=\"_blank\" href=https://colab.research.google.com/notebooks/data_table.ipynb>data table notebook</a>'\n",
              "            + ' to learn more about interactive tables.';\n",
              "          element.innerHTML = '';\n",
              "          dataTable['output_type'] = 'display_data';\n",
              "          await google.colab.output.renderOutput(dataTable, element);\n",
              "          const docLink = document.createElement('div');\n",
              "          docLink.innerHTML = docLinkHtml;\n",
              "          element.appendChild(docLink);\n",
              "        }\n",
              "      </script>\n",
              "    </div>\n",
              "  </div>\n",
              "  "
            ]
          },
          "metadata": {},
          "execution_count": 238
        }
      ]
    },
    {
      "cell_type": "code",
      "source": [
        "plt.subplot(221) #para poner los 4 juntos\n",
        "plt.scatter(grafico1['x'],grafico1['y'],color='blue') #creo los graficos\n",
        "plt.title('Grupo 1')\n",
        "\n",
        "plt.subplot(222)\n",
        "plt.scatter(grafico2['x'],grafico2['y'],color='blue')\n",
        "plt.title('Grupo 2')\n",
        "\n",
        "plt.subplot(223)\n",
        "plt.scatter(grafico3['x'],grafico3['y'],color='blue')\n",
        "plt.title('Grupo 3')\n",
        "\n",
        "plt.subplot(224)\n",
        "plt.scatter(grafico4['x'],grafico4['y'],color='blue')\n",
        "plt.title('Grupo 4')"
      ],
      "metadata": {
        "colab": {
          "base_uri": "https://localhost:8080/",
          "height": 533
        },
        "id": "YY7YzAESZosQ",
        "outputId": "d5e9ee29-4c5d-489b-8f2b-4c1d63b9eb62"
      },
      "execution_count": 239,
      "outputs": [
        {
          "output_type": "execute_result",
          "data": {
            "text/plain": [
              "Text(0.5, 1.0, 'Grupo 4')"
            ]
          },
          "metadata": {},
          "execution_count": 239
        },
        {
          "output_type": "display_data",
          "data": {
            "text/plain": [
              "<Figure size 842.4x595.44 with 4 Axes>"
            ],
            "image/png": "[encoded data removed]"
          },
          "metadata": {}
        }
      ]
    },
    {
      "cell_type": "markdown",
      "source": [
        "Si , los grupos son muy distintos entre si"
      ],
      "metadata": {
        "id": "zn65C-GKbeXt"
      }
    },
    {
      "cell_type": "markdown",
      "source": [
        "**2. Realice un resumen de las medidas estadísticas más significativas ocuapando el comando describe para cada grupo. Interprete.**\n"
      ],
      "metadata": {
        "id": "GtIuDGm2bkw0"
      }
    },
    {
      "cell_type": "code",
      "source": [
        "print('Grupo_1')\n",
        "print(df.loc[df['grupo']== 'Grupo_1'].describe())\n",
        "print('Grupo_2')\n",
        "print(df.loc[df['grupo']== 'Grupo_2'].describe())\n",
        "print('Grupo_3')\n",
        "print(df.loc[df['grupo']== 'Grupo_3'].describe())\n",
        "print('Grupo_4')\n",
        "print(df.loc[df['grupo']== 'Grupo_4'].describe())\n",
        "   "
      ],
      "metadata": {
        "colab": {
          "base_uri": "https://localhost:8080/"
        },
        "id": "76rsaETqb17n",
        "outputId": "d9e3eea6-e86f-4766-f651-4e77cccade32"
      },
      "execution_count": 240,
      "outputs": [
        {
          "output_type": "stream",
          "name": "stdout",
          "text": [
            "Grupo_1\n",
            "               x          y\n",
            "count  11.000000  11.000000\n",
            "mean    9.000000   7.500909\n",
            "std     3.316625   2.031568\n",
            "min     4.000000   4.260000\n",
            "25%     6.500000   6.315000\n",
            "50%     9.000000   7.580000\n",
            "75%    11.500000   8.570000\n",
            "max    14.000000  10.840000\n",
            "Grupo_2\n",
            "               x          y\n",
            "count  11.000000  11.000000\n",
            "mean    9.000000   7.500909\n",
            "std     3.316625   2.031657\n",
            "min     4.000000   3.100000\n",
            "25%     6.500000   6.695000\n",
            "50%     9.000000   8.140000\n",
            "75%    11.500000   8.950000\n",
            "max    14.000000   9.260000\n",
            "Grupo_3\n",
            "               x          y\n",
            "count  11.000000  11.000000\n",
            "mean    9.000000   7.500000\n",
            "std     3.316625   2.030424\n",
            "min     4.000000   5.390000\n",
            "25%     6.500000   6.250000\n",
            "50%     9.000000   7.110000\n",
            "75%    11.500000   7.980000\n",
            "max    14.000000  12.740000\n",
            "Grupo_4\n",
            "               x          y\n",
            "count  11.000000  11.000000\n",
            "mean    9.000000   7.500909\n",
            "std     3.316625   2.030579\n",
            "min     8.000000   5.250000\n",
            "25%     8.000000   6.170000\n",
            "50%     8.000000   7.040000\n",
            "75%     8.000000   8.190000\n",
            "max    19.000000  12.500000\n"
          ]
        }
      ]
    },
    {
      "cell_type": "markdown",
      "source": [
        "los grupos presentan medidas de tendencias similares debido a la distribucion de sus datos a pesar de que graficamente sean distintos.\n"
      ],
      "metadata": {
        "id": "jRuOPoG3csQB"
      }
    },
    {
      "cell_type": "markdown",
      "source": [
        "**3.Realice un ajuste lineal para cada grupo. Además, grafique los resultados de la regresión lineal para cada grupo. Interprete.**"
      ],
      "metadata": {
        "id": "-2cqrA4id2N2"
      }
    },
    {
      "cell_type": "code",
      "source": [
        "from sklearn.linear_model import LinearRegression\n",
        "list=[[grafico1['x'],grafico1['y']],[grafico2['x'],grafico2['y']],[grafico3['x'],grafico3['y']],[grafico4['x'],grafico4['y']]]\n",
        "model_rl = LinearRegression() # Creando el modelo.\n",
        "for i in range(0,4):\n",
        "    model_rl.fit(pd.DataFrame(list[i][0]),pd.DataFrame(list[i][1]))\n",
        "    beta_0 = model_rl.intercept_\n",
        "    beta_1 = model_rl.coef_[0]\n",
        "    \n",
        "    plt.subplot(2,2,i+1)\n",
        "    plt.scatter(list[i][0],list[i][1])\n",
        "    x_range = np.arange(1,20,0.1)\n",
        "    plt.plot(x_range,beta_0+beta_1*x_range)"
      ],
      "metadata": {
        "colab": {
          "base_uri": "https://localhost:8080/",
          "height": 500
        },
        "id": "PPxmuL56dqRU",
        "outputId": "fd08d46e-86a7-4c6d-a819-89dc45d8e036"
      },
      "execution_count": 241,
      "outputs": [
        {
          "output_type": "display_data",
          "data": {
            "text/plain": [
              "<Figure size 842.4x595.44 with 4 Axes>"
            ],
            "image/png": "[encoded data removed]"
          },
          "metadata": {}
        }
      ]
    },
    {
      "cell_type": "markdown",
      "source": [
        "Los grupos 1 y 3 presentan concordancia con el ajuste lineal \\\\\n",
        "El grupo 2, se parece a una parabola por lo que seria mejor un ajuste polinomial \\\\\n",
        "El grupo 4 a una lineal vertical, por lo que el ajuste no es adecuado."
      ],
      "metadata": {
        "id": "JWnrReET4FvT"
      }
    },
    {
      "cell_type": "markdown",
      "source": [
        "4.**Calcule los resultados de las métricas para cada grupo. Interprete** "
      ],
      "metadata": {
        "id": "IXfL0dpL4GUe"
      }
    },
    {
      "cell_type": "code",
      "source": [
        "# Grupo 1\n",
        "from sklearn.metrics import mean_absolute_percentage_error\n",
        "from sklearn.metrics import mean_absolute_error\n",
        "from sklearn.metrics import mean_squared_error\n",
        "from sklearn.metrics import r2_score\n",
        "\n",
        "lista=[]\n",
        "for i in model_rl.predict(pd.DataFrame(grafico1['x'])).tolist():\n",
        "    lista.append(i[0])\n",
        "lista\n",
        "#funcion para el Smape\n",
        "def estimate_coef(x,y):\n",
        "  promx= np.mean(x) #promedio de x\n",
        "  promy= np.mean(y) #promedio de y\n",
        "  dif2=(x-promx)**2 \n",
        "  dif=(x-promx)*(y-promy)\n",
        "  suma= np.sum(dif)\n",
        "  suma2= np.sum(dif2)\n",
        "  beta_1= suma/suma2\n",
        "  beta_0= promy-beta_1*promx\n",
        "  return (beta_0, beta_1)\n",
        "\n",
        "beta_estimado = estimate_coef(grafico1['x'], grafico1['y'])\n",
        "prediccion = beta_estimado[0] + beta_estimado[1]*grafico1['x']\n",
        "\n",
        "n = len(grafico1['y'])\n",
        "x= ((grafico1['y'])**2+(prediccion)**2)/2 #denominador de la sumatoria\n",
        "x1= np.abs(grafico1['y']-prediccion) #numerador de la sumatoria\n",
        "div= x1/x\n",
        "smape = (np.sum(div))/n\n",
        "# --------------------\n",
        "MAPE=mean_absolute_percentage_error(grafico1['y'], lista)\n",
        "R2= r2_score(grafico1['y'], lista)\n",
        "MAE= mean_absolute_error(grafico1['y'], lista)\n",
        "MSE= mean_squared_error(grafico1['y'], lista)\n",
        "RMSE= mean_squared_error(grafico1['y'],lista, squared=False)\n",
        "\n",
        "print('Grupo 1')\n",
        "print('mape:')\n",
        "print(MAPE)\n",
        "print('r2:')\n",
        "print(R2)\n",
        "print('mae:')\n",
        "print(MAE)\n",
        "print('mse:')\n",
        "print(MSE)\n",
        "print('rmse:')\n",
        "print(RMSE)\n",
        "print('smape:')\n",
        "print(smape)\n"
      ],
      "metadata": {
        "colab": {
          "base_uri": "https://localhost:8080/"
        },
        "id": "u75VHrnwgz3A",
        "outputId": "a030f28c-7fca-4b5a-d98d-8c573079d474"
      },
      "execution_count": 242,
      "outputs": [
        {
          "output_type": "stream",
          "name": "stdout",
          "text": [
            "Grupo 1\n",
            "mape:\n",
            "0.12125362425917147\n",
            "r2:\n",
            "0.6665423714029703\n",
            "mae:\n",
            "0.8373057851239668\n",
            "mse:\n",
            "1.2511539669421492\n",
            "rmse:\n",
            "1.1185499394046514\n",
            "smape:\n",
            "0.017090017093981013\n"
          ]
        }
      ]
    },
    {
      "cell_type": "code",
      "source": [
        "lista=[]\n",
        "for i in model_rl.predict(pd.DataFrame(grafico2['x'])).tolist():\n",
        "    lista.append(i[0])\n",
        "lista\n",
        "#funcion para el Smape\n",
        "def estimate_coef(x,y):\n",
        "  promx= np.mean(x) #promedio de x\n",
        "  promy= np.mean(y) #promedio de y\n",
        "  dif2=(x-promx)**2 \n",
        "  dif=(x-promx)*(y-promy)\n",
        "  suma= np.sum(dif)\n",
        "  suma2= np.sum(dif2)\n",
        "  beta_1= suma/suma2\n",
        "  beta_0= promy-beta_1*promx\n",
        "  return (beta_0, beta_1)\n",
        "\n",
        "beta_estimado = estimate_coef(grafico2['x'], grafico2['y'])\n",
        "prediccion = beta_estimado[0] + beta_estimado[1]*grafico2['x']\n",
        "\n",
        "n = len(grafico2['y'])\n",
        "x= ((grafico2['y'])**2+(prediccion)**2)/2 #denominador de la sumatoria\n",
        "x1= np.abs(grafico2['y']-prediccion) #numerador de la sumatoria\n",
        "div= x1/x\n",
        "smape = (np.sum(div))/n\n",
        "# --------------------\n",
        "MAPE=mean_absolute_percentage_error(grafico2['y'], lista)\n",
        "R2= r2_score(grafico2['y'], lista)\n",
        "MAE= mean_absolute_error(grafico2['y'], lista)\n",
        "MSE= mean_squared_error(grafico2['y'], lista)\n",
        "RMSE= mean_squared_error(grafico2['y'],lista, squared=False)\n",
        "\n",
        "print('Grupo 2')\n",
        "print('mape:')\n",
        "print(MAPE)\n",
        "print('r2:')\n",
        "print(R2)\n",
        "print('mae:')\n",
        "print(MAE)\n",
        "print('mse:')\n",
        "print(MSE)\n",
        "print('rmse:')\n",
        "print(RMSE)\n",
        "print('smape:')\n",
        "print(smape)"
      ],
      "metadata": {
        "colab": {
          "base_uri": "https://localhost:8080/"
        },
        "id": "IVQKHVSxefpZ",
        "outputId": "38c2eac6-8635-4a7e-e210-91751b88a8d8"
      },
      "execution_count": 243,
      "outputs": [
        {
          "output_type": "stream",
          "name": "stdout",
          "text": [
            "Grupo 2\n",
            "mape:\n",
            "0.15696135031224573\n",
            "r2:\n",
            "0.6662420117029542\n",
            "mae:\n",
            "0.9679338842975208\n",
            "mse:\n",
            "1.2523901652892564\n",
            "rmse:\n",
            "1.1191023926742611\n",
            "smape:\n",
            "0.023245541223740174\n"
          ]
        }
      ]
    },
    {
      "cell_type": "code",
      "source": [
        "lista=[]\n",
        "for i in model_rl.predict(pd.DataFrame(grafico3['x'])).tolist():\n",
        "    lista.append(i[0])\n",
        "lista\n",
        "#funcion para el Smape\n",
        "def estimate_coef(x,y):\n",
        "  promx= np.mean(x) #promedio de x\n",
        "  promy= np.mean(y) #promedio de y\n",
        "  dif2=(x-promx)**2 \n",
        "  dif=(x-promx)*(y-promy)\n",
        "  suma= np.sum(dif)\n",
        "  suma2= np.sum(dif2)\n",
        "  beta_1= suma/suma2\n",
        "  beta_0= promy-beta_1*promx\n",
        "  return (beta_0, beta_1)\n",
        "\n",
        "beta_estimado = estimate_coef(grafico3['x'], grafico3['y'])\n",
        "prediccion = beta_estimado[0] + beta_estimado[1]*grafico3['x']\n",
        "\n",
        "n = len(grafico3['y'])\n",
        "x= ((grafico3['y'])**2+(prediccion)**2)/2 #denominador de la sumatoria\n",
        "x1= np.abs(grafico3['y']-prediccion) #numerador de la sumatoria\n",
        "div= x1/x\n",
        "smape = (np.sum(div))/n\n",
        "# --------------------\n",
        "MAPE=mean_absolute_percentage_error(grafico3['y'], lista)\n",
        "R2= r2_score(grafico3['y'], lista)\n",
        "MAE= mean_absolute_error(grafico3['y'], lista)\n",
        "MSE= mean_squared_error(grafico3['y'], lista)\n",
        "RMSE= mean_squared_error(grafico3['y'],lista, squared=False)\n",
        "\n",
        "print('Grupo 3')\n",
        "print('mape:')\n",
        "print(MAPE)\n",
        "print('r2:')\n",
        "print(R2)\n",
        "print('mae:')\n",
        "print(MAE)\n",
        "print('mse:')\n",
        "print(MSE)\n",
        "print('rmse:')\n",
        "print(RMSE)\n",
        "print('smape:')\n",
        "print(smape)"
      ],
      "metadata": {
        "colab": {
          "base_uri": "https://localhost:8080/"
        },
        "id": "zFIvdsv5e4kF",
        "outputId": "6def810d-2eee-48e8-f8a0-03d4c25d1c6f"
      },
      "execution_count": 244,
      "outputs": [
        {
          "output_type": "stream",
          "name": "stdout",
          "text": [
            "Grupo 3\n",
            "mape:\n",
            "0.07977942248962798\n",
            "r2:\n",
            "0.6663237323484936\n",
            "mae:\n",
            "0.7164793388429751\n",
            "mse:\n",
            "1.250564049586776\n",
            "rmse:\n",
            "1.1182862109436815\n",
            "smape:\n",
            "0.009769328725785164\n"
          ]
        }
      ]
    },
    {
      "cell_type": "code",
      "source": [
        "lista=[]\n",
        "for i in model_rl.predict(pd.DataFrame(grafico4['x'])).tolist():\n",
        "    lista.append(i[0])\n",
        "lista\n",
        "#funcion para el Smape\n",
        "def estimate_coef(x,y):\n",
        "  promx= np.mean(x) #promedio de x\n",
        "  promy= np.mean(y) #promedio de y\n",
        "  dif2=(x-promx)**2 \n",
        "  dif=(x-promx)*(y-promy)\n",
        "  suma= np.sum(dif)\n",
        "  suma2= np.sum(dif2)\n",
        "  beta_1= suma/suma2\n",
        "  beta_0= promy-beta_1*promx\n",
        "  return (beta_0, beta_1)\n",
        "\n",
        "beta_estimado = estimate_coef(grafico4['x'], grafico4['y'])\n",
        "prediccion = beta_estimado[0] + beta_estimado[1]*grafico4['x']\n",
        "\n",
        "n = len(grafico4['y'])\n",
        "x= ((grafico4['y'])**2+(prediccion)**2)/2 #denominador de la sumatoria\n",
        "x1= np.abs(grafico4['y']-prediccion) #numerador de la sumatoria\n",
        "div= x1/x\n",
        "smape = (np.sum(div))/n\n",
        "# --------------------\n",
        "MAPE=mean_absolute_percentage_error(grafico4['y'], lista)\n",
        "R2= r2_score(grafico4['y'], lista)\n",
        "MAE= mean_absolute_error(grafico4['y'], lista)\n",
        "MSE= mean_squared_error(grafico4['y'], lista)\n",
        "RMSE= mean_squared_error(grafico4['y'],lista, squared=False)\n",
        "\n",
        "print('Grupo 4')\n",
        "print('mape:')\n",
        "print(MAPE)\n",
        "print('r2:')\n",
        "print(R2)\n",
        "print('mae:')\n",
        "print(MAE)\n",
        "print('mse:')\n",
        "print(MSE)\n",
        "print('rmse:')\n",
        "print(RMSE)\n",
        "print('smape:')\n",
        "print(smape)"
      ],
      "metadata": {
        "colab": {
          "base_uri": "https://localhost:8080/"
        },
        "id": "vvaK3-KufHC1",
        "outputId": "d7a2985f-6a3a-4370-cba6-b7242cddb225"
      },
      "execution_count": 245,
      "outputs": [
        {
          "output_type": "stream",
          "name": "stdout",
          "text": [
            "Grupo 4\n",
            "mape:\n",
            "0.13473848647069778\n",
            "r2:\n",
            "0.6667072568984653\n",
            "mae:\n",
            "0.902727272727273\n",
            "mse:\n",
            "1.249317272727273\n",
            "rmse:\n",
            "1.1177286221293936\n",
            "smape:\n",
            "0.0188020540085755\n"
          ]
        }
      ]
    },
    {
      "cell_type": "markdown",
      "source": [
        "Podemos observar que para los 4 grupos el r2 es cercano y el rmse es alto por lo que su ajuste no es el mejor , el Smape es mas bajo en el grupo 3 esto se debe a que si bien los datos siguen un tendencia lineal debe haber un outlier."
      ],
      "metadata": {
        "id": "KNpcODWVjWY-"
      }
    },
    {
      "cell_type": "markdown",
      "source": [
        "5.**Es claro que el ajuste lineal para algunos grupos no es el correcto. Existen varias formas de solucionar este problema (eliminar outliers, otros modelos, etc.). Identifique una estrategia para que el modelo de regresión lineal ajuste de mejor manera e implemente otros modelos en los casos que encuentre necesario**."
      ],
      "metadata": {
        "id": "HKDSBaDwJU4p"
      }
    },
    {
      "cell_type": "markdown",
      "source": [
        "\n",
        "*   El Grupo 1 no presenta un ajuste parecido a ningun modelo previo visto por lo que permanecera con ese ajuste lineal.\n",
        "*   En la grafica del grupo 2 se observa una forma de parabola por lo que se opto por realizar un ajuste polinomial\n",
        "*   Para el grupo 3 y 4  se elimino el outliers y se mantuvo el ajuste.\n",
        "\n",
        "\n",
        "\n",
        "\n",
        "\n"
      ],
      "metadata": {
        "id": "guJOrM7MbkuL"
      }
    },
    {
      "cell_type": "code",
      "source": [
        "from sklearn.preprocessing import PolynomialFeatures\n",
        "\n",
        "X = grafico2.x\n",
        "y = grafico2.y\n",
        "mymodel = numpy.poly1d(numpy.polyfit(X, y, 2))\n",
        "\n",
        "myline = numpy.linspace(4, 20, 100)\n",
        "\n",
        "plt.title('Regresión Lineal Grupo 2')\n",
        "plt.scatter(X, y,color=\"orange\")\n",
        "plt.plot(myline, mymodel(myline))\n",
        "plt.show()\n"
      ],
      "metadata": {
        "colab": {
          "base_uri": "https://localhost:8080/",
          "height": 516
        },
        "id": "6aRby48vJVOP",
        "outputId": "2a2b9046-f868-4899-dc09-c917ef9a5395"
      },
      "execution_count": 246,
      "outputs": [
        {
          "output_type": "display_data",
          "data": {
            "text/plain": [
              "<Figure size 842.4x595.44 with 1 Axes>"
            ],
            "image/png": "[encoded data removed]"
          },
          "metadata": {}
        }
      ]
    },
    {
      "cell_type": "code",
      "source": [
        "print('R2 grupo 2')\n",
        "r2_score(y, mymodel(X))"
      ],
      "metadata": {
        "colab": {
          "base_uri": "https://localhost:8080/"
        },
        "id": "DDa1rtzqZfmC",
        "outputId": "20f23547-881b-4678-c42c-f878e111a6e0"
      },
      "execution_count": 247,
      "outputs": [
        {
          "output_type": "stream",
          "name": "stdout",
          "text": [
            "R2 grupo 2\n"
          ]
        },
        {
          "output_type": "execute_result",
          "data": {
            "text/plain": [
              "0.999999457857722"
            ]
          },
          "metadata": {},
          "execution_count": 247
        }
      ]
    },
    {
      "cell_type": "code",
      "source": [
        "from sklearn.model_selection import train_test_split\n",
        "from sklearn.linear_model import LinearRegression\n",
        "\n",
        "mask= grafico3[\"y\"]<12 ##elimina outlaier\n",
        "data= grafico3[mask]\n",
        "X = data[[\"x\"]]\n",
        "y = data[[\"y\"]]\n",
        "\n",
        "model_rl = LinearRegression() # Creando el modelo.\n",
        "model_rl.fit(X, y) \n",
        "# graficos con seaborn\n",
        "\n",
        "beta_0 = model_rl.intercept_[0]\n",
        "beta_1 = model_rl.coef_[0]\n",
        "\n",
        "x_range = np.arange(3,15,0.5)\n",
        "\n",
        "df_plot = pd.DataFrame({'x':x_range,\n",
        "                        'y_true':[beta_0 + beta_1[0]*n for n in x_range]})\n",
        "\n",
        "df2 = pd.DataFrame({'x':X['x'],'y_true':y['y']})\n",
        "\n",
        "fig, ax = plt.subplots(figsize=(11, 8.5))\n",
        "\n",
        "\n",
        "sns.scatterplot(x='x', y='y_true', data=df2, ax=ax,color=\"black\")\n",
        "sns.lineplot(x='x', y='y_true', data=df_plot,ax=ax,color=\"red\")\n",
        "\n",
        "plt.title('Regresión Lineal Grupo 3')\n",
        "plt.xlabel('x')\n",
        "plt.ylabel('y')\n",
        "plt.show()\n",
        "\n",
        "y_pred = model_rl.predict(X)\n"
      ],
      "metadata": {
        "colab": {
          "base_uri": "https://localhost:8080/",
          "height": 545
        },
        "id": "iQWkX148JhIe",
        "outputId": "7777635a-1deb-466d-f4ec-0659b946587a"
      },
      "execution_count": 248,
      "outputs": [
        {
          "output_type": "display_data",
          "data": {
            "text/plain": [
              "<Figure size 792x612 with 1 Axes>"
            ],
            "image/png": "[encoded data removed]"
          },
          "metadata": {}
        }
      ]
    },
    {
      "cell_type": "code",
      "source": [
        "print('R2 grupo 3')\n",
        "r2_score(y, y_pred)"
      ],
      "metadata": {
        "colab": {
          "base_uri": "https://localhost:8080/"
        },
        "id": "jZIsbeZGZ4Pp",
        "outputId": "b8890217-c39c-4c52-d2b3-7bb0397df0af"
      },
      "execution_count": 249,
      "outputs": [
        {
          "output_type": "stream",
          "name": "stdout",
          "text": [
            "R2 grupo 3\n"
          ]
        },
        {
          "output_type": "execute_result",
          "data": {
            "text/plain": [
              "0.999993107581533"
            ]
          },
          "metadata": {},
          "execution_count": 249
        }
      ]
    },
    {
      "cell_type": "code",
      "source": [
        "#Grupo4\n",
        "\n",
        "#eliminar el outlaier\n",
        "X = grafico4[['y']].drop(40,axis=0) \n",
        "y = grafico4['x'].drop(40,axis=0)\n",
        "\n",
        "\n",
        "X_train, X_test, y_train, y_test = train_test_split(X, y, test_size=0.2, random_state=42)\n",
        "\n",
        "model_rl = LinearRegression()\n",
        "model_rl.fit(X_train, y_train)\n",
        "\n",
        "x_range = np.arange(0.1,14,0.1)\n",
        "        \n",
        "df_plot = pd.DataFrame({'x':x_range,\n",
        "                        'y_true':[model_rl.intercept_+ model_rl.coef_[0]*n for n in x_range]})\n",
        "  \n",
        "df = pd.DataFrame({'x':X['y'],'y_true':y})\n",
        "        \n",
        "fig, ax = plt.subplots(figsize=(11, 8.5))\n",
        "        \n",
        "        \n",
        "sns.scatterplot(x='x', y='y_true', data=df, ax=ax)\n",
        "sns.lineplot(x='x', y='y_true', data=df_plot,ax=ax,color=\"orange\")\n",
        "\n",
        "plt.title('Regresión Lineal Grupo 4')\n",
        "plt.xlabel('y')\n",
        "plt.ylabel('x')\n",
        "plt.show()\n",
        "\n",
        "y_pred = model_rl.predict(X)\n"
      ],
      "metadata": {
        "colab": {
          "base_uri": "https://localhost:8080/",
          "height": 545
        },
        "id": "OkMLEiXuW4hV",
        "outputId": "287d8c62-f109-4b1a-9a84-34fc5fc1c43f"
      },
      "execution_count": 250,
      "outputs": [
        {
          "output_type": "display_data",
          "data": {
            "text/plain": [
              "<Figure size 792x612 with 1 Axes>"
            ],
            "image/png": "[encoded data removed]"
          },
          "metadata": {}
        }
      ]
    },
    {
      "cell_type": "code",
      "source": [
        "print('R2 grupo 4')\n",
        "r2_score(y, y_pred)"
      ],
      "metadata": {
        "colab": {
          "base_uri": "https://localhost:8080/"
        },
        "id": "RDk0OdoDbNnB",
        "outputId": "4fda328e-7026-4149-ae2e-d5a400d66856"
      },
      "execution_count": 251,
      "outputs": [
        {
          "output_type": "stream",
          "name": "stdout",
          "text": [
            "R2 grupo 4\n"
          ]
        },
        {
          "output_type": "execute_result",
          "data": {
            "text/plain": [
              "1.0"
            ]
          },
          "metadata": {},
          "execution_count": 251
        }
      ]
    },
    {
      "cell_type": "markdown",
      "source": [
        "El grafico del grupo 4 se rotó para un mejor ajuste."
      ],
      "metadata": {
        "id": "lTiy_GhDjNzA"
      }
    }
  ],
  "metadata": {
    "kernelspec": {
      "display_name": "Python 3 (ipykernel)",
      "language": "python",
      "name": "python3"
    },
    "language_info": {
      "codemirror_mode": {
        "name": "ipython",
        "version": 3
      },
      "file_extension": ".py",
      "mimetype": "text/x-python",
      "name": "python",
      "nbconvert_exporter": "python",
      "pygments_lexer": "ipython3",
      "version": "3.8.9"
    },
    "colab": {
      "provenance": []
    }
  },
  "nbformat": 4,
  "nbformat_minor": 0
}